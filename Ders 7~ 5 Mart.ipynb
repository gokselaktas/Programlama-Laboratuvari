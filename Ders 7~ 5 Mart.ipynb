{
 "cells": [
  {
   "cell_type": "code",
   "execution_count": 10,
   "metadata": {},
   "outputs": [
    {
     "data": {
      "text/plain": [
       "([[1, 2, 4], [3, 4, 4]], [[1, 2, 3], [4, 5, 6], [7, 8, 9], [7, 8, 9]])"
      ]
     },
     "execution_count": 10,
     "metadata": {},
     "output_type": "execute_result"
    }
   ],
   "source": [
    "#matriste determinant islemi\n",
    "\n",
    "#a=[[1,2],[3,4]]==>> det(a)= 1.4-3.2=2\n",
    "\n",
    "#(2x2)'lik matrisin determinantini bulan fonksiyonu yaziniz.\n",
    "\n",
    "matrix_1 = [[1,2,4],[3,4,4]]\n",
    "matrix_2 = [[1,2,3],[4,5,6],[7,8,9],[7,8,9]]\n",
    "\n",
    "matrix_1,matrix_2\n"
   ]
  },
  {
   "cell_type": "code",
   "execution_count": 11,
   "metadata": {},
   "outputs": [
    {
     "data": {
      "text/plain": [
       "(2, 3)"
      ]
     },
     "execution_count": 11,
     "metadata": {},
     "output_type": "execute_result"
    }
   ],
   "source": [
    "satir_sayisi=len(matrix_1)\n",
    "sutun_sayisi=len(matrix_1[0])\n",
    "satir_sayisi,sutun_sayisi"
   ]
  },
  {
   "cell_type": "code",
   "execution_count": 12,
   "metadata": {},
   "outputs": [
    {
     "data": {
      "text/plain": [
       "([[1, 2, 3], [4, 5, 6], [7, 8, 9], [7, 8, 9]], [[5, 6], [8, 9], [8, 9]])"
      ]
     },
     "execution_count": 12,
     "metadata": {},
     "output_type": "execute_result"
    }
   ],
   "source": [
    "matrix_1 = [[1,2,4],[3,4,4]]\n",
    "matrix_2 = [[1,2,3],[4,5,6],[7,8,9],[7,8,9]]\n",
    "matrix_1,matrix_2\n",
    "\n",
    "\n",
    "#2x2 matris icin\n",
    "def det_form_2_by_2(m_1):\n",
    "    s_1 = m_1[0][0]*m_1[1][1]# 1*4\n",
    "    s_2 = m_1[0][1]*m_1[1][0]# 3*2\n",
    "    s_3 = s_1-s_2\n",
    "    return s_3\n",
    "det_form_2_by_2(matrix_1)\n",
    "\n",
    "#matrislerde satir sutun silmek icin fonksiyon\n",
    "def delete_row_col_from_matrix(m_1,m,n):\n",
    "    result=[]\n",
    "    size_1=(len(m_1))\n",
    "    size_2=(len(m_1[0]))\n",
    "    \n",
    "    for i in range(size_1):\n",
    "        if(i==m):\n",
    "            continue\n",
    "            \n",
    "        row_1=[]\n",
    "        for j in range(size_2):\n",
    "            if(j==n):\n",
    "                continue\n",
    "            row_1.append(m_1[i][j])\n",
    "        result.append(row_1)\n",
    "        \n",
    "    return result\n",
    "matrix_1\n",
    "m_2=delete_row_col_from_matrix(matrix_2,0,0)\n",
    "\n",
    "matrix_2,m_2\n",
    "            \n",
    "    "
   ]
  },
  {
   "cell_type": "code",
   "execution_count": 13,
   "metadata": {},
   "outputs": [],
   "source": [
    "#3x3 matriste determinant alma islemi"
   ]
  },
  {
   "cell_type": "code",
   "execution_count": 14,
   "metadata": {},
   "outputs": [
    {
     "data": {
      "text/plain": [
       "0"
      ]
     },
     "execution_count": 14,
     "metadata": {},
     "output_type": "execute_result"
    }
   ],
   "source": [
    "def det_form_3_by_3(m_1):\n",
    "    a_1 = m_1[0][0]\n",
    "    a_2 = delete_row_col_from_matrix(m_1,0,0)\n",
    "    a_3 = det_form_2_by_2(a_2)\n",
    "    a_4 = a_1 * a_3\n",
    "    \n",
    "    b_1 = m_1[0][1]\n",
    "    b_2 = delete_row_col_from_matrix(m_1,0,1)\n",
    "    b_3 = det_form_2_by_2(b_2) #ctrl shift alt ile kestirmeden \n",
    "    b_4 = b_1 * b_3               #degisken degistirebiliriz\n",
    "\n",
    "    c_1 = m_1[0][2]\n",
    "    c_2 = delete_row_col_from_matrix(m_1,0,2)\n",
    "    c_3 = det_form_2_by_2(c_2)\n",
    "    c_4 = c_1 * c_3\n",
    "\n",
    "    return a_4-b_4+c_4\n",
    "matrix_2 = [[1,2,3],[4,5,6],[7,8,9],[7,8,9]]\n",
    "det_form_3_by_3(matrix_2)"
   ]
  },
  {
   "cell_type": "code",
   "execution_count": 15,
   "metadata": {},
   "outputs": [
    {
     "data": {
      "text/plain": [
       "0"
      ]
     },
     "execution_count": 15,
     "metadata": {},
     "output_type": "execute_result"
    }
   ],
   "source": [
    "# yukardaki 3x3 fonksiyonun kisa hali \n",
    "def det_form_3_by_3_short(m_1):\n",
    "    a = m_1[0][0]*det_form_2_by_2(delete_row_col_from_matrix(m_1,0,0))\n",
    "    b = m_1[0][1]*det_form_2_by_2(delete_row_col_from_matrix(m_1,0,1))\n",
    "    c = m_1[0][2]*det_form_2_by_2(delete_row_col_from_matrix(m_1,0,2))\n",
    "    \n",
    "    return a-b+c  #b nin isaretini negatif yaptik \n",
    "matrix_2 = [[1,2,3],[4,5,6],[7,8,9],[7,8,9]]\n",
    "det_form_3_by_3_short(matrix_2)"
   ]
  },
  {
   "cell_type": "code",
   "execution_count": 16,
   "metadata": {},
   "outputs": [],
   "source": [
    "### 4x4 matrisini bizler yapiyoruz"
   ]
  },
  {
   "cell_type": "code",
   "execution_count": 17,
   "metadata": {},
   "outputs": [
    {
     "data": {
      "text/plain": [
       "0"
      ]
     },
     "execution_count": 17,
     "metadata": {},
     "output_type": "execute_result"
    }
   ],
   "source": [
    "def det_form_4_by_4(m_1):\n",
    "    a_1 = m_1[0][0]\n",
    "    a_2 = delete_row_col_from_matrix(m_1,0,0)\n",
    "    a_3 = det_form_3_by_3(a_2)\n",
    "    a_4 = a_1 * a_3\n",
    "    \n",
    "    b_1 = m_1[0][1]\n",
    "    b_2 = delete_row_col_from_matrix(m_1,0,1)\n",
    "    b_3 = det_form_3_by_3(b_2)\n",
    "    b_4 = b_1 * a_3 \n",
    "    \n",
    "    c_1 = m_1[0][2]\n",
    "    c_2 = delete_row_col_from_matrix(m_1,0,2)\n",
    "    c_3 = det_form_3_by_3(c_2)\n",
    "    c_4 = c_1 * c_3 \n",
    "    \n",
    "    d_1 = m_1[0][3]\n",
    "    d_2 = delete_row_col_from_matrix(m_1,0,3)\n",
    "    d_3 = det_form_3_by_3(d_2)\n",
    "    d_4 = d_1 * d_3 \n",
    "    \n",
    "    return a_4-b_4+c_4-d_4\n",
    "\n",
    "matrix_4 = [[1,2,3,4],[5,6,7,8],[9,10,11,12],[13,14,15,16]]\n",
    "det_form_4_by_4(matrix_4)"
   ]
  }
 ],
 "metadata": {
  "kernelspec": {
   "display_name": "Python 3",
   "language": "python",
   "name": "python3"
  },
  "language_info": {
   "codemirror_mode": {
    "name": "ipython",
    "version": 3
   },
   "file_extension": ".py",
   "mimetype": "text/x-python",
   "name": "python",
   "nbconvert_exporter": "python",
   "pygments_lexer": "ipython3",
   "version": "3.7.1"
  }
 },
 "nbformat": 4,
 "nbformat_minor": 2
}
