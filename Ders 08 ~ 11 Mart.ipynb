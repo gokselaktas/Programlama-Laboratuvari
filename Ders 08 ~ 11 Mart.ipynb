{
 "cells": [
  {
   "cell_type": "code",
   "execution_count": 3,
   "metadata": {},
   "outputs": [],
   "source": [
    "# verilen sayinin carpanlarini bulunuz 1 ve kendisinden baska carpani yoksa o sayi Asal sayidir.\n",
    "def isprime(a):\n",
    "    divisors = [1]\n",
    "    i=2\n",
    "    while (i<=a/2):\n",
    "        if a%i==0:\n",
    "            divisors.append(i)\n",
    "        i += 1\n",
    "        #^^^^^^^^^^^^^^^^^^^^^^ carpanlari hesaplama\n",
    "    i=3\n",
    "    if(a<2):\n",
    "        return(0)\n",
    "    if a!=2 and a%2==0:\n",
    "        return(divisors,\"Asal degil\")\n",
    "    while i<=a**(1/2):\n",
    "        if a%i==0:\n",
    "            return(divisors,\"Asal degil\")\n",
    "        i += 2\n",
    "    divisors.append(a)\n",
    "    return(divisors,\"Asal sayidir \")"
   ]
  },
  {
   "cell_type": "code",
   "execution_count": 4,
   "metadata": {},
   "outputs": [
    {
     "data": {
      "text/plain": [
       "([1, 5], 'Asal degil')"
      ]
     },
     "execution_count": 4,
     "metadata": {},
     "output_type": "execute_result"
    }
   ],
   "source": [
    "isprime(25)"
   ]
  },
  {
   "cell_type": "code",
   "execution_count": 97,
   "metadata": {},
   "outputs": [
    {
     "data": {
      "text/plain": [
       "([1, 2147483647], 'Asal sayidir ')"
      ]
     },
     "execution_count": 97,
     "metadata": {},
     "output_type": "execute_result"
    }
   ],
   "source": [
    "isprime(2147483647)"
   ]
  },
  {
   "cell_type": "code",
   "execution_count": 5,
   "metadata": {},
   "outputs": [
    {
     "data": {
      "text/plain": [
       "([1, 2, 3, 6, 11, 22, 33], 'Asal degil')"
      ]
     },
     "execution_count": 5,
     "metadata": {},
     "output_type": "execute_result"
    }
   ],
   "source": [
    "isprime(66)"
   ]
  },
  {
   "cell_type": "code",
   "execution_count": 6,
   "metadata": {},
   "outputs": [
    {
     "data": {
      "text/plain": [
       "([1, 17], 'Asal sayidir ')"
      ]
     },
     "execution_count": 6,
     "metadata": {},
     "output_type": "execute_result"
    }
   ],
   "source": [
    "isprime(17)"
   ]
  },
  {
   "cell_type": "code",
   "execution_count": 7,
   "metadata": {},
   "outputs": [],
   "source": [
    "# bir sa yi listesi veriliyor [4,-3,2,-1,-2,6,-5]  bu listede ardisik olarak verilen sayilarin toplaminin max deger?\n",
    "#mesela =>  4 + (-3)+ 2 = 3\n",
    "\n",
    "\n",
    "def maxsequential(liste):\n",
    "    max = liste[0]\n",
    "    for i in range(len(liste)):\n",
    "        for j in range(i,len(liste)):\n",
    "           \n",
    "            sum=0\n",
    "            for k in range(i,j+1):\n",
    "                sum+=liste[k]\n",
    "            if max < sum:\n",
    "                max=sum\n",
    "    return max"
   ]
  },
  {
   "cell_type": "code",
   "execution_count": 8,
   "metadata": {},
   "outputs": [
    {
     "data": {
      "text/plain": [
       "6"
      ]
     },
     "execution_count": 8,
     "metadata": {},
     "output_type": "execute_result"
    }
   ],
   "source": [
    "list = [4,-3,2,-1,-2,6,-5]\n",
    "maxsequential(list)"
   ]
  }
 ],
 "metadata": {
  "kernelspec": {
   "display_name": "Python 3",
   "language": "python",
   "name": "python3"
  },
  "language_info": {
   "codemirror_mode": {
    "name": "ipython",
    "version": 3
   },
   "file_extension": ".py",
   "mimetype": "text/x-python",
   "name": "python",
   "nbconvert_exporter": "python",
   "pygments_lexer": "ipython3",
   "version": "3.7.1"
  }
 },
 "nbformat": 4,
 "nbformat_minor": 2
}
