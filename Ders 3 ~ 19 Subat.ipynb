{
 "cells": [
  {
   "cell_type": "markdown",
   "metadata": {},
   "source": [
    "# loop vs recursive performans \n"
   ]
  },
  {
   "cell_type": "markdown",
   "metadata": {},
   "source": [
    "### Fibonacci hesaplama"
   ]
  },
  {
   "cell_type": "code",
   "execution_count": 43,
   "metadata": {},
   "outputs": [
    {
     "name": "stdout",
     "output_type": "stream",
     "text": [
      "fibo loop : 0 fibo recursive :  0\n",
      "fibo loop : 1 fibo recursive :  1\n",
      "fibo loop : 1 fibo recursive :  1\n",
      "fibo loop : 2 fibo recursive :  2\n",
      "fibo loop : 3 fibo recursive :  3\n",
      "fibo loop : 5 fibo recursive :  5\n",
      "fibo loop : 8 fibo recursive :  8\n",
      "fibo loop : 13 fibo recursive :  13\n",
      "fibo loop : 21 fibo recursive :  21\n",
      "fibo loop : 34 fibo recursive :  34\n",
      "fibo loop : 55 fibo recursive :  55\n",
      "fibo loop : 89 fibo recursive :  89\n",
      "fibo loop : 144 fibo recursive :  144\n",
      "fibo loop : 233 fibo recursive :  233\n",
      "fibo loop : 377 fibo recursive :  377\n",
      "fibo loop : 610 fibo recursive :  610\n",
      "fibo loop : 987 fibo recursive :  987\n",
      "fibo loop : 1597 fibo recursive :  1597\n",
      "fibo loop : 2584 fibo recursive :  2584\n",
      "fibo loop : 4181 fibo recursive :  4181\n",
      "fibo loop : 6765 fibo recursive :  6765\n",
      "fibo loop : 10946 fibo recursive :  10946\n",
      "fibo loop : 17711 fibo recursive :  17711\n",
      "fibo loop : 28657 fibo recursive :  28657\n",
      "fibo loop : 46368 fibo recursive :  46368\n",
      "fibo loop : 75025 fibo recursive :  75025\n",
      "fibo loop : 121393 fibo recursive :  121393\n",
      "fibo loop : 196418 fibo recursive :  196418\n",
      "fibo loop : 317811 fibo recursive :  317811\n",
      "fibo loop : 514229 fibo recursive :  514229\n",
      "fibo loop : 832040 fibo recursive :  832040\n",
      "fibo loop : 1346269 fibo recursive :  1346269\n",
      "fibo loop : 2178309 fibo recursive :  2178309\n",
      "fibo loop : 3524578 fibo recursive :  3524578\n",
      "fibo loop : 5702887 fibo recursive :  5702887\n"
     ]
    }
   ],
   "source": [
    "def fibonacci_loop(n):\n",
    "    a,b=0,1\n",
    "    for i in range(n):\n",
    "        a,b=b,a+b\n",
    "    return a\n",
    "\n",
    "def fibonacci_recursive(n):\n",
    "    if(n<2):\n",
    "        return n\n",
    "    else:\n",
    "        return fibonacci_recursive(n-1)+fibonacci_recursive(n-2)\n",
    "    #fonksiyon performansi dusuk 40-45 lere cikmak imkansiz\n",
    "    \n",
    "for i in range (35):\n",
    "    r_1=fibonacci_loop(i)\n",
    "    r_2=fibonacci_recursive(i)\n",
    "    print(\"fibo loop :\",r_1,end=\" \")\n",
    "    print(\"fibo recursive : \",r_2)"
   ]
  },
  {
   "cell_type": "code",
   "execution_count": 48,
   "metadata": {},
   "outputs": [
    {
     "data": {
      "text/plain": [
       "102334155"
      ]
     },
     "execution_count": 48,
     "metadata": {},
     "output_type": "execute_result"
    }
   ],
   "source": [
    "fibonacci_loop(40)# 1 ms "
   ]
  },
  {
   "cell_type": "code",
   "execution_count": 49,
   "metadata": {},
   "outputs": [
    {
     "data": {
      "text/plain": [
       "102334155"
      ]
     },
     "execution_count": 49,
     "metadata": {},
     "output_type": "execute_result"
    }
   ],
   "source": [
    "fibonacci_recursive(40)# 30 s"
   ]
  },
  {
   "cell_type": "markdown",
   "metadata": {},
   "source": [
    "### factorial hesap"
   ]
  },
  {
   "cell_type": "code",
   "execution_count": 44,
   "metadata": {},
   "outputs": [
    {
     "name": "stdout",
     "output_type": "stream",
     "text": [
      "factorial loop : 3628800 factorial revursive :  3628800\n",
      "factorial loop : 39916800 factorial revursive :  39916800\n",
      "factorial loop : 479001600 factorial revursive :  479001600\n",
      "factorial loop : 6227020800 factorial revursive :  6227020800\n",
      "factorial loop : 87178291200 factorial revursive :  87178291200\n",
      "factorial loop : 1307674368000 factorial revursive :  1307674368000\n",
      "factorial loop : 20922789888000 factorial revursive :  20922789888000\n",
      "factorial loop : 355687428096000 factorial revursive :  355687428096000\n",
      "factorial loop : 6402373705728000 factorial revursive :  6402373705728000\n",
      "factorial loop : 121645100408832000 factorial revursive :  121645100408832000\n"
     ]
    }
   ],
   "source": [
    "def factorial(n):\n",
    "    s=1\n",
    "    for i in range(1,n+1):\n",
    "        s=s*i\n",
    "    return s\n",
    "    #lineer\n",
    "def factorial_recursive(n):\n",
    "    if(n==1):\n",
    "        return 1\n",
    "    else:\n",
    "        return n*factorial_recursive(n-1)\n",
    "    \n",
    "for i in range (10,20):\n",
    "    r_1=factorial(i)\n",
    "    r_2=factorial_recursive(i)\n",
    "    print(\"factorial loop :\",r_1,end=\" \")\n",
    "    print(\"factorial revursive : \",r_2)"
   ]
  },
  {
   "cell_type": "markdown",
   "metadata": {},
   "source": [
    "### us hesaplama"
   ]
  },
  {
   "cell_type": "code",
   "execution_count": 45,
   "metadata": {},
   "outputs": [],
   "source": [
    "loop_sayac=0\n",
    "recursive_sayac=0"
   ]
  },
  {
   "cell_type": "code",
   "execution_count": 46,
   "metadata": {},
   "outputs": [
    {
     "name": "stdout",
     "output_type": "stream",
     "text": [
      "power loop : 16 power revursive :  16\n",
      "power loop : 64 power revursive :  64\n",
      "power loop : 256 power revursive :  256\n",
      "power loop : 1024 power revursive :  1024\n",
      "power loop : 4096 power revursive :  4096\n",
      "power loop : 16384 power revursive :  16384\n",
      "power loop : 65536 power revursive :  65536\n",
      "power loop : 262144 power revursive :  262144\n"
     ]
    }
   ],
   "source": [
    "def power_recursive(m,n):\n",
    "    global recursive_sayac\n",
    "    recursive_sayac=recursive_sayac+1\n",
    "    if(n==0):\n",
    "        return 1\n",
    "    elif(n==1):\n",
    "        return m \n",
    "    elif(n%2==0):\n",
    "        return power_recursive(m*m,int(n/2))\n",
    "    elif(n%2!=0):\n",
    "        return power_recursive(m*m,int(n/2))*m\n",
    "    \n",
    "def power_loop(m,n):  #m ussu n\n",
    "    global loop_sayac\n",
    "    s=1\n",
    "    for i in range(n):\n",
    "        s=s*m\n",
    "        loop_sayac=loop_sayac+1\n",
    "    return s\n",
    "m=4\n",
    "for i in range(2,10):\n",
    "    r_1=power_loop(m,i)\n",
    "    r_2=power_recursive(m,i)\n",
    "    print(\"power loop :\",r_1,end=\" \")\n",
    "    print(\"power revursive : \",r_2)"
   ]
  },
  {
   "cell_type": "code",
   "execution_count": 47,
   "metadata": {},
   "outputs": [
    {
     "data": {
      "text/plain": [
       "(24, 44)"
      ]
     },
     "execution_count": 47,
     "metadata": {},
     "output_type": "execute_result"
    }
   ],
   "source": [
    "recursive_sayac,loop_sayac"
   ]
  },
  {
   "cell_type": "code",
   "execution_count": null,
   "metadata": {},
   "outputs": [],
   "source": []
  },
  {
   "cell_type": "code",
   "execution_count": null,
   "metadata": {},
   "outputs": [],
   "source": []
  }
 ],
 "metadata": {
  "kernelspec": {
   "display_name": "Python 3",
   "language": "python",
   "name": "python3"
  },
  "language_info": {
   "codemirror_mode": {
    "name": "ipython",
    "version": 3
   },
   "file_extension": ".py",
   "mimetype": "text/x-python",
   "name": "python",
   "nbconvert_exporter": "python",
   "pygments_lexer": "ipython3",
   "version": "3.7.1"
  }
 },
 "nbformat": 4,
 "nbformat_minor": 2
}
