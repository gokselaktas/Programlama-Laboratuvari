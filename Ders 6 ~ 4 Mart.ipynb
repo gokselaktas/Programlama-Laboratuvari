{
 "cells": [
  {
   "cell_type": "code",
   "execution_count": 10,
   "metadata": {},
   "outputs": [
    {
     "data": {
      "text/plain": [
       "[[1, 2, 3], [4, 5, 6]]"
      ]
     },
     "execution_count": 10,
     "metadata": {},
     "output_type": "execute_result"
    }
   ],
   "source": [
    "#matrislerde islemler \n",
    "#a list of alist of a list \n",
    "matrix_1=[[1,2,3],[4,5,6]]\n",
    "matrix_1\n"
   ]
  },
  {
   "cell_type": "code",
   "execution_count": 11,
   "metadata": {},
   "outputs": [
    {
     "name": "stdout",
     "output_type": "stream",
     "text": [
      "[[9, 8, 6], [14, 7, 15]]\n"
     ]
    }
   ],
   "source": [
    "def my_matrix_addition(m_1,m_2):\n",
    "    result=[]\n",
    "    for row in range(len(m_1)):\n",
    "        result.append([])\n",
    "        for column in range(len(m_1[0])):#2x3 matrix oldugu icin +1 yapinca sıkıntı çıkmadı\n",
    "                                         #2x5 matris oldugunda +1 calismayacaktir.\n",
    "            #print(m_1[row][column],end=\" \")\n",
    "            result[row].append(m_1[row][column]+m_2[row][column])\n",
    "      #  print()\n",
    "    return result\n",
    "matrix_1=[[4,6,3],[8,5,6]]\n",
    "matrix_2=[[5,2,3],[6,2,9]]\n",
    "r=my_matrix_addition(matrix_1,matrix_2)\n",
    "print(r)\n",
    "\n"
   ]
  },
  {
   "cell_type": "code",
   "execution_count": 12,
   "metadata": {},
   "outputs": [
    {
     "name": "stdout",
     "output_type": "stream",
     "text": [
      "[[-1, 4, 0], [2, 3, -3]]\n"
     ]
    }
   ],
   "source": [
    "def my_matrix_substraction(m_1,m_2):\n",
    "    result=[]\n",
    "    for row in range(len(m_1)):\n",
    "        result.append([])\n",
    "        for column in range(len(m_1[0])):\n",
    "            #print(m_1[row][column],end=\" \")\n",
    "            result[row].append(m_1[row][column]-m_2[row][column])\n",
    "      #  print()\n",
    "    return result\n",
    "matrix_1=[[4,6,3],[8,5,6]]\n",
    "matrix_2=[[5,2,3],[6,2,9]]\n",
    "r=my_matrix_substraction(matrix_1,matrix_2)\n",
    "print (r)"
   ]
  },
  {
   "cell_type": "code",
   "execution_count": 13,
   "metadata": {},
   "outputs": [
    {
     "name": "stdout",
     "output_type": "stream",
     "text": [
      "[[40, 60, 30], [80, 50, 60]]\n"
     ]
    }
   ],
   "source": [
    "def my_matrix_scaler_product(alpha,m_1):#burdaki alinan degerlere gore\n",
    "    result=[]\n",
    "    for row in range(len(m_1)):\n",
    "        result.append([])\n",
    "        for column in range(len(m_1[0])):\n",
    "            #print(m_1[row][column],end=\" \")\n",
    "            result[row].append(m_1[row][column]*alpha)\n",
    "      #  print()\n",
    "    return result\n",
    "matrix_1=[[4,6,3],[8,5,6]]\n",
    "alpha=10\n",
    "r=my_matrix_scaler_product(alpha,matrix_1)# buraya degiskenleri dizmek gerekiyor\n",
    "print (r)"
   ]
  },
  {
   "cell_type": "code",
   "execution_count": 14,
   "metadata": {},
   "outputs": [
    {
     "data": {
      "text/plain": [
       "[8, 5, 6]"
      ]
     },
     "execution_count": 14,
     "metadata": {},
     "output_type": "execute_result"
    }
   ],
   "source": [
    "# satir sutun vektorel ic carpma \n",
    "#f1 satiri f2 sutunu \n",
    "\n",
    "def f_1(matrix1,i):\n",
    "    return matrix_1[i]\n",
    "matrix_1=[[4,6,3],[8,5,6]]\n",
    "f_1(matrix_1,1)\n",
    "    \n",
    "    #return matrix[i][:]"
   ]
  },
  {
   "cell_type": "code",
   "execution_count": 15,
   "metadata": {},
   "outputs": [
    {
     "data": {
      "text/plain": [
       "[8, 5, 6]"
      ]
     },
     "execution_count": 15,
     "metadata": {},
     "output_type": "execute_result"
    }
   ],
   "source": [
    "def f_1(matrix1,i):\n",
    "    return matrix_1[i]\n",
    "matrix_1=[[4,6,3],[8,5,6]]\n",
    "f_1(matrix_1,1)\n",
    "\n",
    "\n",
    "\n",
    "def f_2(matrix1,j):\n",
    "    my_j_th_col=[]\n",
    "    for row in matrix_1:\n",
    "        for indis in range (len(row)):\n",
    "            if(indis==j):\n",
    "                my_j_th_col.append(row[indis])\n",
    "    return my_j_th_col\n",
    "\n",
    "f_2(matrix_1,2)\n",
    "\n",
    "f_1(matrix_1,1)\n"
   ]
  },
  {
   "cell_type": "code",
   "execution_count": 49,
   "metadata": {
    "scrolled": true
   },
   "outputs": [
    {
     "ename": "IndexError",
     "evalue": "list index out of range",
     "output_type": "error",
     "traceback": [
      "\u001b[0;31m---------------------------------------------------------------------------\u001b[0m",
      "\u001b[0;31mIndexError\u001b[0m                                Traceback (most recent call last)",
      "\u001b[0;32m<ipython-input-49-3e10ff334f93>\u001b[0m in \u001b[0;36m<module>\u001b[0;34m\u001b[0m\n\u001b[1;32m     26\u001b[0m \u001b[0mmatrix_3\u001b[0m\u001b[0;34m=\u001b[0m\u001b[0;34m[\u001b[0m\u001b[0;34m[\u001b[0m\u001b[0;36m1\u001b[0m\u001b[0;34m,\u001b[0m\u001b[0;36m2\u001b[0m\u001b[0;34m]\u001b[0m\u001b[0;34m,\u001b[0m\u001b[0;34m[\u001b[0m\u001b[0;36m3\u001b[0m\u001b[0;34m,\u001b[0m\u001b[0;36m4\u001b[0m\u001b[0;34m]\u001b[0m\u001b[0;34m]\u001b[0m\u001b[0;34m\u001b[0m\u001b[0;34m\u001b[0m\u001b[0m\n\u001b[1;32m     27\u001b[0m \u001b[0mmatrix_4\u001b[0m\u001b[0;34m=\u001b[0m\u001b[0;34m[\u001b[0m\u001b[0;34m[\u001b[0m\u001b[0;36m5\u001b[0m\u001b[0;34m,\u001b[0m\u001b[0;36m6\u001b[0m\u001b[0;34m,\u001b[0m\u001b[0;36m7\u001b[0m\u001b[0;34m]\u001b[0m\u001b[0;34m,\u001b[0m\u001b[0;34m[\u001b[0m\u001b[0;36m8\u001b[0m\u001b[0;34m,\u001b[0m\u001b[0;36m9\u001b[0m\u001b[0;34m,\u001b[0m\u001b[0;36m10\u001b[0m\u001b[0;34m]\u001b[0m\u001b[0;34m]\u001b[0m\u001b[0;34m\u001b[0m\u001b[0;34m\u001b[0m\u001b[0m\n\u001b[0;32m---> 28\u001b[0;31m \u001b[0mr\u001b[0m\u001b[0;34m=\u001b[0m\u001b[0mmy_matrix_multiply\u001b[0m\u001b[0;34m(\u001b[0m\u001b[0mmatrix_3\u001b[0m\u001b[0;34m,\u001b[0m\u001b[0mmatrix_4\u001b[0m\u001b[0;34m)\u001b[0m\u001b[0;34m\u001b[0m\u001b[0;34m\u001b[0m\u001b[0m\n\u001b[0m\u001b[1;32m     29\u001b[0m \u001b[0mr\u001b[0m\u001b[0;34m\u001b[0m\u001b[0;34m\u001b[0m\u001b[0m\n\u001b[1;32m     30\u001b[0m \u001b[0;34m\u001b[0m\u001b[0m\n",
      "\u001b[0;32m<ipython-input-49-3e10ff334f93>\u001b[0m in \u001b[0;36mmy_matrix_multiply\u001b[0;34m(m_1, m_2)\u001b[0m\n\u001b[1;32m     21\u001b[0m             \u001b[0ma\u001b[0m\u001b[0;34m=\u001b[0m\u001b[0mf_1\u001b[0m\u001b[0;34m(\u001b[0m\u001b[0mm_1\u001b[0m\u001b[0;34m,\u001b[0m\u001b[0mrow\u001b[0m\u001b[0;34m)\u001b[0m\u001b[0;34m\u001b[0m\u001b[0;34m\u001b[0m\u001b[0m\n\u001b[1;32m     22\u001b[0m             \u001b[0mb\u001b[0m\u001b[0;34m=\u001b[0m\u001b[0mf_2\u001b[0m\u001b[0;34m(\u001b[0m\u001b[0mm_2\u001b[0m\u001b[0;34m,\u001b[0m\u001b[0mcolumn\u001b[0m\u001b[0;34m)\u001b[0m\u001b[0;34m\u001b[0m\u001b[0;34m\u001b[0m\u001b[0m\n\u001b[0;32m---> 23\u001b[0;31m             \u001b[0mc\u001b[0m\u001b[0;34m=\u001b[0m\u001b[0mmy_Vectors_Inner_Product\u001b[0m\u001b[0;34m(\u001b[0m\u001b[0ma\u001b[0m\u001b[0;34m,\u001b[0m\u001b[0mb\u001b[0m\u001b[0;34m)\u001b[0m\u001b[0;34m\u001b[0m\u001b[0;34m\u001b[0m\u001b[0m\n\u001b[0m\u001b[1;32m     24\u001b[0m             \u001b[0mresult\u001b[0m\u001b[0;34m[\u001b[0m\u001b[0mrow\u001b[0m\u001b[0;34m]\u001b[0m\u001b[0;34m.\u001b[0m\u001b[0mappend\u001b[0m\u001b[0;34m(\u001b[0m\u001b[0mc\u001b[0m\u001b[0;34m)\u001b[0m\u001b[0;34m\u001b[0m\u001b[0;34m\u001b[0m\u001b[0m\n\u001b[1;32m     25\u001b[0m     \u001b[0;32mreturn\u001b[0m \u001b[0mresult\u001b[0m\u001b[0;34m\u001b[0m\u001b[0;34m\u001b[0m\u001b[0m\n",
      "\u001b[0;32m<ipython-input-49-3e10ff334f93>\u001b[0m in \u001b[0;36mmy_Vectors_Inner_Product\u001b[0;34m(v, w)\u001b[0m\n\u001b[1;32m      7\u001b[0m         \u001b[0mmy_result\u001b[0m\u001b[0;34m.\u001b[0m\u001b[0mappend\u001b[0m\u001b[0;34m(\u001b[0m\u001b[0;36m0\u001b[0m\u001b[0;34m)\u001b[0m\u001b[0;34m\u001b[0m\u001b[0;34m\u001b[0m\u001b[0m\n\u001b[1;32m      8\u001b[0m     \u001b[0;32mfor\u001b[0m \u001b[0mi\u001b[0m \u001b[0;32min\u001b[0m  \u001b[0mrange\u001b[0m \u001b[0;34m(\u001b[0m\u001b[0msize\u001b[0m\u001b[0;34m)\u001b[0m\u001b[0;34m:\u001b[0m\u001b[0;34m\u001b[0m\u001b[0;34m\u001b[0m\u001b[0m\n\u001b[0;32m----> 9\u001b[0;31m         \u001b[0mmy_result\u001b[0m\u001b[0;34m[\u001b[0m\u001b[0mi\u001b[0m\u001b[0;34m]\u001b[0m\u001b[0;34m=\u001b[0m\u001b[0mv\u001b[0m\u001b[0;34m[\u001b[0m\u001b[0mi\u001b[0m\u001b[0;34m]\u001b[0m\u001b[0;34m*\u001b[0m\u001b[0mw\u001b[0m\u001b[0;34m[\u001b[0m\u001b[0mi\u001b[0m\u001b[0;34m]\u001b[0m\u001b[0;34m\u001b[0m\u001b[0;34m\u001b[0m\u001b[0m\n\u001b[0m\u001b[1;32m     10\u001b[0m     \u001b[0mt\u001b[0m\u001b[0;34m=\u001b[0m\u001b[0;36m0\u001b[0m\u001b[0;34m\u001b[0m\u001b[0;34m\u001b[0m\u001b[0m\n\u001b[1;32m     11\u001b[0m     \u001b[0;32mfor\u001b[0m \u001b[0mi\u001b[0m \u001b[0;32min\u001b[0m  \u001b[0mrange\u001b[0m\u001b[0;34m(\u001b[0m\u001b[0msize\u001b[0m\u001b[0;34m)\u001b[0m\u001b[0;34m:\u001b[0m\u001b[0;34m\u001b[0m\u001b[0;34m\u001b[0m\u001b[0m\n",
      "\u001b[0;31mIndexError\u001b[0m: list index out of range"
     ]
    }
   ],
   "source": [
    "\n",
    "#size= len(w) yapinca kod caliriyor ama her zaman ayni sonucu veriyor ?\n",
    "def my_Vectors_Inner_Product(v,w):\n",
    "    size=len(v)\n",
    "    my_result=[]\n",
    "    for i in range (size):\n",
    "        my_result.append(0)\n",
    "    for i in  range (size):\n",
    "        my_result[i]=v[i]*w[i]\n",
    "    t=0\n",
    "    for i in  range(size):\n",
    "        t=t+my_result[i]\n",
    "    return t\n",
    "\n",
    "def my_matrix_multiply(m_1,m_2):\n",
    "    result=[]\n",
    "    for row in range(len(m_1)):\n",
    "        result.append([])\n",
    "        for column in range(len(m_2[0])):\n",
    "            #print(m_1[row][column],end=\" \")\n",
    "            a=f_1(m_1,row)\n",
    "            b=f_2(m_2,column)\n",
    "            c=my_Vectors_Inner_Product(a,b)\n",
    "            result[row].append(c)\n",
    "    return result\n",
    "matrix_3=[[1,2],[3,4]]\n",
    "matrix_4=[[5,6,7],[8,9,10]]\n",
    "r=my_matrix_multiply(matrix_3,matrix_4)\n",
    "r\n",
    "\n"
   ]
  },
  {
   "cell_type": "code",
   "execution_count": 32,
   "metadata": {},
   "outputs": [
    {
     "data": {
      "text/plain": [
       "[[20, 16, 15], [44, 38, 33]]"
      ]
     },
     "execution_count": 32,
     "metadata": {},
     "output_type": "execute_result"
    }
   ],
   "source": [
    "def multiply_matrix(matrix1,matrix2):\n",
    "    result = []\n",
    "    for row in range (len(matrix1)):\n",
    "        result.append([])\n",
    "        for column in range (len(matrix2[row])):\n",
    "            tempMatrix = my_Vectors_Inner_Product(matrix1[row],f_2(matrix2,column))\n",
    "            result[row].append(tempMatrix)\n",
    "    return result\n",
    "\n",
    "matrix_3=[[1,2],[3,4]]\n",
    "matrix_4=[[5,6,2222223423427],[8,9132,2313123210]]\n",
    "multiply_matrix(matrix_3,matrix_4)"
   ]
  },
  {
   "cell_type": "code",
   "execution_count": 50,
   "metadata": {},
   "outputs": [
    {
     "data": {
      "text/plain": [
       "[[64, 54, 48], [72, 73, 54]]"
      ]
     },
     "execution_count": 50,
     "metadata": {},
     "output_type": "execute_result"
    }
   ],
   "source": [
    "matrix1=[[4,6,3],[8,5,6]]\n",
    "matrix2=[[5,2,3],[6,2,9]]\n",
    "\n",
    "def f1(m1, i):\n",
    "    return m1[i]\n",
    "#f1(matrix1, 1)\n",
    "\n",
    "\n",
    "def f2(m1,j):\n",
    "    j_th_col=[]\n",
    "    for row in m1:\n",
    "        for indis in range(len(row)):\n",
    "            if(indis==j):\n",
    "                j_th_col.append(row[indis])\n",
    "    return j_th_col\n",
    "#f2(matrix1,2)\n",
    "\n",
    "\n",
    "def VectorsInnerProduct(v,w):\n",
    "    size=len(v)\n",
    "    my_result=[]\n",
    "    for i in range(size):\n",
    "        my_result.append(0)\n",
    "    for i in range(size):\n",
    "        my_result[i]=v[i]*w[i]\n",
    "    t=0\n",
    "    for i in range(size):\n",
    "        t+=my_result[i]\n",
    "    return t\n",
    "\n",
    "\n",
    "def matrixMultiplication(m1,m2):\n",
    "    resultMatrix=[]\n",
    "    for row in range(len(m1)): #satir m1den\n",
    "        resultMatrix.append([])\n",
    "        for column in range(len(m2[0])): #sutun m2den\n",
    "            a=f1(m1,row)\n",
    "            b=f2(m2,column)\n",
    "            c=VectorsInnerProduct(a,b)\n",
    "            resultMatrix[row].append(c)\n",
    "    return resultMatrix\n",
    "matrix3=[[4,6],[8,5]]\n",
    "matrix4=[[4,6,3],[8,5,6]]\n",
    "r= matrixMultiplication(matrix3, matrix4)\n",
    "r"
   ]
  },
  {
   "cell_type": "code",
   "execution_count": null,
   "metadata": {},
   "outputs": [],
   "source": []
  },
  {
   "cell_type": "code",
   "execution_count": null,
   "metadata": {},
   "outputs": [],
   "source": []
  },
  {
   "cell_type": "code",
   "execution_count": null,
   "metadata": {},
   "outputs": [],
   "source": []
  },
  {
   "cell_type": "code",
   "execution_count": null,
   "metadata": {},
   "outputs": [],
   "source": []
  }
 ],
 "metadata": {
  "kernelspec": {
   "display_name": "Python 3",
   "language": "python",
   "name": "python3"
  },
  "language_info": {
   "codemirror_mode": {
    "name": "ipython",
    "version": 3
   },
   "file_extension": ".py",
   "mimetype": "text/x-python",
   "name": "python",
   "nbconvert_exporter": "python",
   "pygments_lexer": "ipython3",
   "version": "3.7.1"
  }
 },
 "nbformat": 4,
 "nbformat_minor": 2
}
