{
 "cells": [
  {
   "cell_type": "code",
   "execution_count": 1,
   "metadata": {},
   "outputs": [],
   "source": [
    "import random\n",
    "\n",
    "def get_n_random_integer(n):\n",
    "    random.seed(10) # ayni random degerlere ulasmak icin \n",
    "    numbers = []\n",
    "    for i in range(n):\n",
    "        s = random.randint(-10,10)\n",
    "        numbers.append(s)\n",
    "    return numbers\n",
    "\n",
    "\n",
    "def get_mean_for_n_integer(numbers):\n",
    "    toplam = 0\n",
    "    kactane = 0\n",
    "    for sayi in numbers:\n",
    "        toplam += sayi\n",
    "        kactane += 1\n",
    "    return toplam/kactane\n",
    "\n",
    "\n",
    "def get_std_for_n_integer(numbers):\n",
    "    toplam = 0\n",
    "    kactane = 0\n",
    "    ortalama = get_mean_for_n_integer(numbers)\n",
    "    \n",
    "    for sayi in numbers:\n",
    "        toplam = toplam +(sayi-ortalama)**2\n",
    "        kactane += 1\n",
    "    var_1 = toplam/(kactane-1)\n",
    "    std_1 = var_1**0.5\n",
    "    return std_1\n",
    "\n",
    "\n",
    "def normalizasyon(numbers):\n",
    "    new_numbers = []\n",
    "    ortalama = get_mean_for_n_integer(numbers)\n",
    "    standart_sapma = get_std_for_n_integer(numbers)\n",
    "    for x in numbers:\n",
    "        new_x = (x-ortalama)/standart_sapma\n",
    "        new_numbers.append(new_x)\n",
    "    return new_numbers"
   ]
  },
  {
   "cell_type": "code",
   "execution_count": 2,
   "metadata": {},
   "outputs": [
    {
     "name": "stdout",
     "output_type": "stream",
     "text": [
      "sayilar: [8, -9, 3, 5, 8]\n",
      "ortalama: 3.0\n",
      "standart sapma: 7.035623639735144\n",
      "yenisayi: [0.7106690545187014, -1.7056057308448835, 0.0, 0.2842676218074806, 0.7106690545187014]\n"
     ]
    }
   ],
   "source": [
    "sayilar = get_n_random_integer(5)\n",
    "print(\"sayilar:\",sayilar)\n",
    "ortalama = get_mean_for_n_integer(sayilar)\n",
    "print(\"ortalama:\",ortalama)\n",
    "standart_sapma = get_std_for_n_integer(sayilar)\n",
    "print(\"standart sapma:\",standart_sapma)\n",
    "yeni_sayilar = normalizasyon(sayilar)\n",
    "print(\"yenisayi:\",yeni_sayilar)"
   ]
  },
  {
   "cell_type": "code",
   "execution_count": 3,
   "metadata": {},
   "outputs": [
    {
     "data": {
      "text/plain": [
       "-2.2204460492503132e-17"
      ]
     },
     "execution_count": 3,
     "metadata": {},
     "output_type": "execute_result"
    }
   ],
   "source": [
    "get_mean_for_n_integer(yeni_sayilar)"
   ]
  },
  {
   "cell_type": "code",
   "execution_count": 4,
   "metadata": {},
   "outputs": [
    {
     "data": {
      "text/plain": [
       "1.0"
      ]
     },
     "execution_count": 4,
     "metadata": {},
     "output_type": "execute_result"
    }
   ],
   "source": [
    "get_std_for_n_integer(yeni_sayilar)"
   ]
  },
  {
   "cell_type": "code",
   "execution_count": 5,
   "metadata": {},
   "outputs": [],
   "source": [
    "def get_mean_one_std_neighbor_ratio(numbers):\n",
    "    kacTane = 0\n",
    "    toplamKacSayi = 0\n",
    "    ortalama = get_mean_for_n_integer(numbers)\n",
    "    standart_sapma = get_std_for_n_integer(numbers)\n",
    "    low = ortalama - standart_sapma\n",
    "    high = ortalama + standart_sapma\n",
    "    \n",
    "    for x in numbers:\n",
    "        toplamKacSayi +=1\n",
    "        if(x>low and x<high):\n",
    "            kacTane = kacTane + 1\n",
    "    return kacTane/toplamKacSayi\n",
    "            "
   ]
  },
  {
   "cell_type": "code",
   "execution_count": 6,
   "metadata": {},
   "outputs": [
    {
     "data": {
      "text/plain": [
       "0.62225"
      ]
     },
     "execution_count": 6,
     "metadata": {},
     "output_type": "execute_result"
    }
   ],
   "source": [
    "sayilar_1 = get_n_random_integer(100000)\n",
    "get_mean_one_std_neighbor_ratio(sayilar_1)"
   ]
  },
  {
   "cell_type": "code",
   "execution_count": 7,
   "metadata": {},
   "outputs": [
    {
     "name": "stdout",
     "output_type": "stream",
     "text": [
      "[75, 32, 25, 14, 47]\n",
      "[14, 25, 32, 47, 75]\n"
     ]
    }
   ],
   "source": [
    "sayilar_2 = [75, 32, 25, 14, 47]\n",
    "length_1 = len(sayilar_2)\n",
    "print(sayilar_2)\n",
    "for i in range(1,length_1):\n",
    "    for j in range(i,0,-1):\n",
    "        if(sayilar_2[j]<sayilar_2[j-1]):\n",
    "            #swap\n",
    "            #python tek satirda da swap yapmamiza izin veriyor\n",
    "            temp = sayilar_2[j-1]\n",
    "            sayilar_2[j-1] = sayilar_2[j]\n",
    "            sayilar_2[j]=temp\n",
    "        \n",
    "print(sayilar_2)"
   ]
  }
 ],
 "metadata": {
  "kernelspec": {
   "display_name": "Python 3",
   "language": "python",
   "name": "python3"
  },
  "language_info": {
   "codemirror_mode": {
    "name": "ipython",
    "version": 3
   },
   "file_extension": ".py",
   "mimetype": "text/x-python",
   "name": "python",
   "nbconvert_exporter": "python",
   "pygments_lexer": "ipython3",
   "version": "3.7.1"
  }
 },
 "nbformat": 4,
 "nbformat_minor": 2
}
