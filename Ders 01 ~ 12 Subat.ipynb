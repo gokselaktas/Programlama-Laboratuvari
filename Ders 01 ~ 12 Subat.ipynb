{
 "cells": [
  {
   "cell_type": "markdown",
   "metadata": {},
   "source": [
    "##  Siralama Algoritmalari\n",
    " * Bubble sort\n",
    " * Selection sort\n",
    " * Insertion sort\n",
    " * Quick sort\n",
    " * Heap sort\n",
    " * Merge sort"
   ]
  },
  {
   "cell_type": "code",
   "execution_count": 3,
   "metadata": {},
   "outputs": [
    {
     "name": "stdout",
     "output_type": "stream",
     "text": [
      "dizi uret:  [40, 38, 8, 19, 24, 24, 71, 20]\n",
      "dizide eleman arama:  (False, -1, 1)\n",
      "=-=-=-=-=-=-=-=-=-=-=-=-=-=-=-=-=\n",
      "dizi 2\n",
      "0 : 75 1 : 91 2 : 11 3 : 28 4 : 70 5 : 33 6 : 84 7 : 85 8 : 43 9 : 65 \n",
      "--------------\n",
      "Siralanmis dizi2: \n",
      "[75, 11, 28, 70, 33, 84, 85, 43, 65, 91]\n",
      "[11, 28, 70, 33, 75, 84, 43, 65, 85, 91]\n",
      "[11, 28, 33, 70, 75, 43, 65, 84, 85, 91]\n",
      "[11, 28, 33, 70, 43, 65, 75, 84, 85, 91]\n",
      "[11, 28, 33, 43, 65, 70, 75, 84, 85, 91]\n",
      "[11, 28, 33, 43, 65, 70, 75, 84, 85, 91]\n",
      "[11, 28, 33, 43, 65, 70, 75, 84, 85, 91]\n",
      "[11, 28, 33, 43, 65, 70, 75, 84, 85, 91]\n",
      "[11, 28, 33, 43, 65, 70, 75, 84, 85, 91]\n"
     ]
    }
   ],
   "source": [
    "import random\n",
    "\n",
    "#boyutu n olan dizi uret\n",
    "\n",
    "def generate_an_array(n):\n",
    "    #n=10\n",
    "    my_array=[]\n",
    "    for i in range(n):\n",
    "        s=random.randint(0,100)\n",
    "        my_array.append(s)\n",
    "    return my_array\n",
    "\n",
    "\n",
    "\n",
    "\n",
    "\n",
    "#dizi uzerinde arama yapan fonksiyon \n",
    "#siralanmis dizi uzerinde ikili arama yapan fonksiyon\n",
    "\n",
    "def my_search_c(array_2,item):\n",
    "    found=False\n",
    "    indis=-1\n",
    "    step=0\n",
    "    for i in range(len(array_2)):\n",
    "        step=step+1\n",
    "        if array_2[i]==item:\n",
    "            found=True\n",
    "            indis=i\n",
    "            break\n",
    "        return(found,indis,step)\n",
    "    \n",
    "array_1 = generate_an_array(8)\n",
    "print(\"dizi uret: \", array_1)\n",
    "\n",
    "print(\"dizide eleman arama: \",my_search_c(array_1,array_1[3]))\n",
    "\n",
    "print(\"=-=-=-=-=-=-=-=-=-=-=-=-=-=-=-=-=\")\n",
    "\n",
    "my_arr_1=generate_an_array(10)\n",
    "\n",
    "print(\"dizi 2\")\n",
    "for i in range(len(my_arr_1)):\n",
    "    print(i,\":\",my_arr_1[i],end=\" \")\n",
    "    \n",
    "print(\"\\n--------------\")\n",
    "\n",
    "def my_bubble_sort(my_array):\n",
    "    for i in range(len(my_array)-1,0,-1):\n",
    "        for j in range(i):\n",
    "            if(my_array[j]>my_array[j+1]):\n",
    "                t=my_array[j]\n",
    "                my_array[j]=my_array[j+1]\n",
    "                my_array[j+1]=t\n",
    "        print(my_array)\n",
    "print(\"Siralanmis dizi2: \")\n",
    "my_bubble_sort(my_arr_1)\n"
   ]
  },
  {
   "cell_type": "code",
   "execution_count": null,
   "metadata": {},
   "outputs": [],
   "source": []
  }
 ],
 "metadata": {
  "kernelspec": {
   "display_name": "Python 3",
   "language": "python",
   "name": "python3"
  },
  "language_info": {
   "codemirror_mode": {
    "name": "ipython",
    "version": 3
   },
   "file_extension": ".py",
   "mimetype": "text/x-python",
   "name": "python",
   "nbconvert_exporter": "python",
   "pygments_lexer": "ipython3",
   "version": "3.7.1"
  }
 },
 "nbformat": 4,
 "nbformat_minor": 2
}
