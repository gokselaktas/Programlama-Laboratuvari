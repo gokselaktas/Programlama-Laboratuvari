{
 "cells": [
  {
   "cell_type": "markdown",
   "metadata": {},
   "source": [
    "## vektorlerde islemler"
   ]
  },
  {
   "cell_type": "code",
   "execution_count": 1,
   "metadata": {},
   "outputs": [],
   "source": [
    "def vector_addition(v,m):\n",
    "    result = []\n",
    "    for i in range (len(v)):\n",
    "        result.append(v[i]+w[i])\n",
    "    return result"
   ]
  },
  {
   "cell_type": "code",
   "execution_count": 2,
   "metadata": {},
   "outputs": [],
   "source": [
    "def vector_substraction(v,m):\n",
    "    result = []\n",
    "    for i in range (len(v)):\n",
    "        result.append(v[i]-w[i])\n",
    "    return result"
   ]
  },
  {
   "cell_type": "code",
   "execution_count": 3,
   "metadata": {},
   "outputs": [],
   "source": [
    "def vectors_inner_product(v,w):#vektorde carpma islemi \n",
    "    result = []\n",
    "    for i in range (len(v)):\n",
    "        result.append(0)\n",
    "    for i in range (len(v)):\n",
    "        result[i]= v[i]*w[i]\n",
    "    t=0\n",
    "    for i in range(len(v)):\n",
    "        t+=result[i]\n",
    "    return t"
   ]
  },
  {
   "cell_type": "code",
   "execution_count": 4,
   "metadata": {},
   "outputs": [
    {
     "data": {
      "text/plain": [
       "20"
      ]
     },
     "execution_count": 4,
     "metadata": {},
     "output_type": "execute_result"
    }
   ],
   "source": [
    "v=[1,2,3]\n",
    "w=[2,3,4]\n",
    "vectors_inner_product(v,w)"
   ]
  },
  {
   "cell_type": "code",
   "execution_count": 5,
   "metadata": {},
   "outputs": [],
   "source": [
    "def vector_scalar_product(alpha,v):\n",
    "    result=[]\n",
    "    for i in range(len(v)):\n",
    "        result.append(alpha*v[i])\n",
    "    return result"
   ]
  }
 ],
 "metadata": {
  "kernelspec": {
   "display_name": "Python 3",
   "language": "python",
   "name": "python3"
  },
  "language_info": {
   "codemirror_mode": {
    "name": "ipython",
    "version": 3
   },
   "file_extension": ".py",
   "mimetype": "text/x-python",
   "name": "python",
   "nbconvert_exporter": "python",
   "pygments_lexer": "ipython3",
   "version": "3.7.1"
  }
 },
 "nbformat": 4,
 "nbformat_minor": 2
}
