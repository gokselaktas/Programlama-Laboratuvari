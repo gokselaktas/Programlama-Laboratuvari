{
 "cells": [
  {
   "cell_type": "code",
   "execution_count": 1,
   "metadata": {},
   "outputs": [],
   "source": [
    "import random\n",
    "\n",
    "def get_n_random_integer(n):\n",
    "    #random.seed(10) # ayni random degerlere ulasmak icin \n",
    "    numbers = []\n",
    "    for i in range(n):\n",
    "        s = random.randint(-10,10)\n",
    "        numbers.append(s)\n",
    "    return numbers\n",
    "\n",
    "\n",
    "def get_mean_for_n_integer(numbers):\n",
    "    toplam = 0\n",
    "    kactane = 0\n",
    "    for sayi in numbers:\n",
    "        toplam += sayi\n",
    "        kactane += 1\n",
    "    return toplam/kactane\n",
    "\n",
    "\n",
    "def get_std_for_n_integer(numbers):\n",
    "    toplam = 0\n",
    "    kactane = 0\n",
    "    ortalama = get_mean_for_n_integer(numbers)\n",
    "    \n",
    "    for sayi in numbers:\n",
    "        toplam = toplam +(sayi-ortalama)**2\n",
    "        kactane += 1\n",
    "    var_1 = toplam/(kactane-1)\n",
    "    std_1 = var_1**0.5\n",
    "    return std_1\n",
    "\n",
    "\n",
    "def normalizasyon(numbers):\n",
    "    new_numbers = []\n",
    "    ortalama = get_mean_for_n_integer(numbers)\n",
    "    standart_sapma = get_std_for_n_integer(numbers)\n",
    "    for x in numbers:\n",
    "        new_x = (x-ortalama)/standart_sapma\n",
    "        new_numbers.append(new_x)\n",
    "    return new_numbers"
   ]
  },
  {
   "cell_type": "code",
   "execution_count": 2,
   "metadata": {},
   "outputs": [
    {
     "name": "stdout",
     "output_type": "stream",
     "text": [
      "sayilar: [-92, 49, 73, -19, 30]\n",
      "ortalama: 8.2\n",
      "standart sapma: 65.4194160781033\n",
      "yenisayi: [-1.5316553709432787, 0.623668055234389, 0.9905316171369707, -0.4157787034895926, 0.3332344020615118]\n"
     ]
    }
   ],
   "source": [
    "sayilar = get_n_random_integer(5)\n",
    "print(\"sayilar:\",sayilar)\n",
    "ortalama = get_mean_for_n_integer(sayilar)\n",
    "print(\"ortalama:\",ortalama)\n",
    "standart_sapma = get_std_for_n_integer(sayilar)\n",
    "print(\"standart sapma:\",standart_sapma)\n",
    "yeni_sayilar = normalizasyon(sayilar)\n",
    "print(\"yenisayi:\",yeni_sayilar)"
   ]
  },
  {
   "cell_type": "code",
   "execution_count": 3,
   "metadata": {},
   "outputs": [
    {
     "data": {
      "text/plain": [
       "1.1102230246251566e-17"
      ]
     },
     "execution_count": 3,
     "metadata": {},
     "output_type": "execute_result"
    }
   ],
   "source": [
    "get_mean_for_n_integer(yeni_sayilar)"
   ]
  },
  {
   "cell_type": "code",
   "execution_count": 4,
   "metadata": {},
   "outputs": [
    {
     "data": {
      "text/plain": [
       "1.0"
      ]
     },
     "execution_count": 4,
     "metadata": {},
     "output_type": "execute_result"
    }
   ],
   "source": [
    "get_std_for_n_integer(yeni_sayilar)"
   ]
  },
  {
   "cell_type": "code",
   "execution_count": 5,
   "metadata": {},
   "outputs": [],
   "source": [
    "def get_mean_one_std_neighbor_ratio(numbers):\n",
    "    kacTane = 0\n",
    "    toplamKacSayi = 0\n",
    "    ortalama = get_mean_for_n_integer(numbers)\n",
    "    standart_sapma = get_std_for_n_integer(numbers)\n",
    "    low = ortalama - standart_sapma\n",
    "    high = ortalama + standart_sapma\n",
    "    \n",
    "    for x in numbers:\n",
    "        toplamKacSayi +=1\n",
    "        if(x>low and x<high):\n",
    "            kacTane = kacTane + 1\n",
    "    return kacTane/toplamKacSayi\n",
    "            "
   ]
  },
  {
   "cell_type": "code",
   "execution_count": 6,
   "metadata": {},
   "outputs": [
    {
     "data": {
      "text/plain": [
       "0.57928"
      ]
     },
     "execution_count": 6,
     "metadata": {},
     "output_type": "execute_result"
    }
   ],
   "source": [
    "sayilar_1 = get_n_random_integer(100000)\n",
    "get_mean_one_std_neighbor_ratio(sayilar_1)"
   ]
  },
  {
   "cell_type": "code",
   "execution_count": 7,
   "metadata": {},
   "outputs": [],
   "source": [
    "sayilar_2 = [75, 32, 25, 14, 47]\n",
    "\n",
    "def insertion(numbers):\n",
    "    sayilar_2 = numbers\n",
    "    karsilastirma_sayisi = 0#comparsion\n",
    "    yerdegistirme_sayisi = 0#swap\n",
    "    length_1 = len(sayilar_2)\n",
    "    #print(sayilar_2)\n",
    "\n",
    "    for i in range(1,length_1):\n",
    "        \n",
    "        for j in range(i,0,-1):#i?\n",
    "            \n",
    "            karsilastirma_sayisi+=1\n",
    "            \n",
    "            if(sayilar_2[j]<sayilar_2[j-1]):\n",
    "                #swap\n",
    "                yerdegistirme_sayisi+=1\n",
    "                #python tek satirda da swap yapmamiza izin veriyor\n",
    "                temp = sayilar_2[j-1]\n",
    "                sayilar_2[j-1] = sayilar_2[j]\n",
    "                sayilar_2[j] = temp\n",
    "            else:\n",
    "                break\n",
    "        \n",
    "    #print(sayilar_2)\n",
    "    return sayilar_2,karsilastirma_sayisi,yerdegistirme_sayisi"
   ]
  },
  {
   "cell_type": "code",
   "execution_count": 147,
   "metadata": {},
   "outputs": [
    {
     "name": "stdout",
     "output_type": "stream",
     "text": [
      "siralanmis liste:  [-99, -99, -95, -91, -91, -86, -85, -85, -84, -81, -61, -61, -60, -59, -59, -59, -47, -47, -44, -44, -43, -42, -39, -33, -31, -31, -28, -25, -23, -23, -15, -15, -11, -11, -10, -8, 0, 1, 2, 5, 6, 7, 9, 10, 11, 11, 12, 12, 15, 16, 20, 21, 25, 27, 28, 30, 32, 36, 36, 37, 37, 39, 43, 44, 45, 45, 45, 46, 47, 48, 48, 48, 51, 51, 53, 54, 56, 56, 57, 60, 63, 63, 65, 67, 69, 72, 77, 77, 78, 78, 83, 84, 85, 86, 87, 87, 87, 89, 93, 94]\n",
      "karsilastirma sayisi:  2348\n",
      "yer degistirme sayisi:  2255\n"
     ]
    }
   ],
   "source": [
    "sayilar_1 = get_n_random_integer(100)\n",
    "sayilar_2 = insertion(sayilar_1)\n",
    "print(\"siralanmis liste: \",sayilar_2[0])\n",
    "print(\"karsilastirma sayisi: \",sayilar_2[1])\n",
    "print(\"yer degistirme sayisi: \",sayilar_2[2])"
   ]
  },
  {
   "cell_type": "code",
   "execution_count": 9,
   "metadata": {},
   "outputs": [
    {
     "data": {
      "text/plain": [
       "(1000, 249113, 5460)"
      ]
     },
     "execution_count": 9,
     "metadata": {},
     "output_type": "execute_result"
    }
   ],
   "source": [
    "def get_mean_of_swap_in_insertion(numTrials,numInt):\n",
    "    swap_sayilari=[]\n",
    "    for i in range(numTrials):\n",
    "        sayilar_1 = get_n_random_integer(numInt)\n",
    "        sayilar_2 = insertion(sayilar_1)\n",
    "        s_1 = sayilar_2[2]\n",
    "        swap_sayilari.append(s_1)\n",
    "        \n",
    "    \n",
    "    mean_1 = get_mean_for_n_integer(swap_sayilari)\n",
    "    std_1 = get_std_for_n_integer(swap_sayilari)\n",
    "    \n",
    "    return numInt,int(mean_1), int(std_1)\n",
    "\n",
    "\n",
    "get_mean_of_swap_in_insertion(10,1000)\n"
   ]
  },
  {
   "cell_type": "code",
   "execution_count": 10,
   "metadata": {},
   "outputs": [],
   "source": [
    "def bubbleSort(arr):\n",
    "    n = len(arr)\n",
    "    karsilastirma_sayisi = 0\n",
    "    yerdegistime_sayisi = 0\n",
    "\n",
    "    for i in range(n):\n",
    " \n",
    "        for j in range(0, n-i-1):\n",
    "            karsilastirma_sayisi += 1\n",
    "\n",
    "            if arr[j] > arr[j+1] :\n",
    "                yerdegistime_sayisi += 1\n",
    "                arr[j], arr[j+1] = arr[j+1], arr[j]\n",
    "\n",
    "    return yerdegistime_sayisi,karsilastirma_sayisi"
   ]
  },
  {
   "cell_type": "code",
   "execution_count": 153,
   "metadata": {},
   "outputs": [
    {
     "data": {
      "text/plain": [
       "29"
      ]
     },
     "execution_count": 153,
     "metadata": {},
     "output_type": "execute_result"
    }
   ],
   "source": [
    "sayilar_1 = get_n_random_integer(10)\n",
    "\n",
    "bubbleSort(sayilar_1)\n"
   ]
  },
  {
   "cell_type": "code",
   "execution_count": 12,
   "metadata": {},
   "outputs": [
    {
     "data": {
      "text/plain": [
       "(1000, 247450, 3870)"
      ]
     },
     "execution_count": 12,
     "metadata": {},
     "output_type": "execute_result"
    }
   ],
   "source": [
    "def get_mean_of_swap_in_bubble(numTrials,numInt):\n",
    "    swap_sayilari=[]\n",
    "    for i in range(numTrials):\n",
    "        sayilar_1 = get_n_random_integer(numInt)\n",
    "        s_1 = sayilar_2 = bubbleSort(sayilar_1)\n",
    "        swap_sayilari.append(s_1)\n",
    "        \n",
    "    \n",
    "    mean_1 = get_mean_for_n_integer(swap_sayilari)\n",
    "    std_1 = get_std_for_n_integer(swap_sayilari)\n",
    "    \n",
    "    return numInt,int(mean_1), int(std_1)\n",
    "\n",
    "get_mean_of_swap_in_bubble(10,1000)"
   ]
  },
  {
   "cell_type": "code",
   "execution_count": 157,
   "metadata": {},
   "outputs": [
    {
     "ename": "ZeroDivisionError",
     "evalue": "division by zero",
     "output_type": "error",
     "traceback": [
      "\u001b[0;31m---------------------------------------------------------------------------\u001b[0m",
      "\u001b[0;31mZeroDivisionError\u001b[0m                         Traceback (most recent call last)",
      "\u001b[0;32m<ipython-input-157-1f07f3537840>\u001b[0m in \u001b[0;36m<module>\u001b[0;34m\u001b[0m\n\u001b[1;32m      1\u001b[0m \u001b[0mrandom\u001b[0m\u001b[0;34m.\u001b[0m\u001b[0mseed\u001b[0m\u001b[0;34m(\u001b[0m\u001b[0;36m42\u001b[0m\u001b[0;34m)\u001b[0m\u001b[0;34m\u001b[0m\u001b[0;34m\u001b[0m\u001b[0m\n\u001b[0;32m----> 2\u001b[0;31m \u001b[0mresult_1\u001b[0m \u001b[0;34m=\u001b[0m \u001b[0mget_mean_of_swap_in_insertion\u001b[0m\u001b[0;34m(\u001b[0m\u001b[0;34m-\u001b[0m\u001b[0;36m100\u001b[0m\u001b[0;34m,\u001b[0m\u001b[0;36m100\u001b[0m\u001b[0;34m)\u001b[0m\u001b[0;34m\u001b[0m\u001b[0;34m\u001b[0m\u001b[0m\n\u001b[0m\u001b[1;32m      3\u001b[0m \u001b[0mrandom\u001b[0m\u001b[0;34m.\u001b[0m\u001b[0mseed\u001b[0m\u001b[0;34m(\u001b[0m\u001b[0;36m42\u001b[0m\u001b[0;34m)\u001b[0m\u001b[0;34m\u001b[0m\u001b[0;34m\u001b[0m\u001b[0m\n\u001b[1;32m      4\u001b[0m \u001b[0mresult_2\u001b[0m \u001b[0;34m=\u001b[0m \u001b[0mget_mean_of_swap_in_bubble\u001b[0m\u001b[0;34m(\u001b[0m\u001b[0;34m-\u001b[0m\u001b[0;36m100\u001b[0m\u001b[0;34m,\u001b[0m\u001b[0;36m100\u001b[0m\u001b[0;34m)\u001b[0m\u001b[0;34m\u001b[0m\u001b[0;34m\u001b[0m\u001b[0m\n\u001b[1;32m      5\u001b[0m \u001b[0;34m\u001b[0m\u001b[0m\n",
      "\u001b[0;32m<ipython-input-9-b209b72eb0fe>\u001b[0m in \u001b[0;36mget_mean_of_swap_in_insertion\u001b[0;34m(numTrials, numInt)\u001b[0m\n\u001b[1;32m      8\u001b[0m \u001b[0;34m\u001b[0m\u001b[0m\n\u001b[1;32m      9\u001b[0m \u001b[0;34m\u001b[0m\u001b[0m\n\u001b[0;32m---> 10\u001b[0;31m     \u001b[0mmean_1\u001b[0m \u001b[0;34m=\u001b[0m \u001b[0mget_mean_for_n_integer\u001b[0m\u001b[0;34m(\u001b[0m\u001b[0mswap_sayilari\u001b[0m\u001b[0;34m)\u001b[0m\u001b[0;34m\u001b[0m\u001b[0;34m\u001b[0m\u001b[0m\n\u001b[0m\u001b[1;32m     11\u001b[0m     \u001b[0mstd_1\u001b[0m \u001b[0;34m=\u001b[0m \u001b[0mget_std_for_n_integer\u001b[0m\u001b[0;34m(\u001b[0m\u001b[0mswap_sayilari\u001b[0m\u001b[0;34m)\u001b[0m\u001b[0;34m\u001b[0m\u001b[0;34m\u001b[0m\u001b[0m\n\u001b[1;32m     12\u001b[0m \u001b[0;34m\u001b[0m\u001b[0m\n",
      "\u001b[0;32m<ipython-input-1-03f4eb108396>\u001b[0m in \u001b[0;36mget_mean_for_n_integer\u001b[0;34m(numbers)\u001b[0m\n\u001b[1;32m     16\u001b[0m         \u001b[0mtoplam\u001b[0m \u001b[0;34m+=\u001b[0m \u001b[0msayi\u001b[0m\u001b[0;34m\u001b[0m\u001b[0;34m\u001b[0m\u001b[0m\n\u001b[1;32m     17\u001b[0m         \u001b[0mkactane\u001b[0m \u001b[0;34m+=\u001b[0m \u001b[0;36m1\u001b[0m\u001b[0;34m\u001b[0m\u001b[0;34m\u001b[0m\u001b[0m\n\u001b[0;32m---> 18\u001b[0;31m     \u001b[0;32mreturn\u001b[0m \u001b[0mtoplam\u001b[0m\u001b[0;34m/\u001b[0m\u001b[0mkactane\u001b[0m\u001b[0;34m\u001b[0m\u001b[0;34m\u001b[0m\u001b[0m\n\u001b[0m\u001b[1;32m     19\u001b[0m \u001b[0;34m\u001b[0m\u001b[0m\n\u001b[1;32m     20\u001b[0m \u001b[0;34m\u001b[0m\u001b[0m\n",
      "\u001b[0;31mZeroDivisionError\u001b[0m: division by zero"
     ]
    }
   ],
   "source": [
    "random.seed(42)\n",
    "result_1 = get_mean_of_swap_in_insertion(10,10)\n",
    "random.seed(42)\n",
    "result_2 = get_mean_of_swap_in_bubble(10,10)\n",
    "\n",
    "print(\"insertion: \", result_1)\n",
    "print(\"bubble: \",result_2)"
   ]
  },
  {
   "cell_type": "code",
   "execution_count": 64,
   "metadata": {},
   "outputs": [],
   "source": [
    "#shellsort\n",
    "def ShellSort(arr):\n",
    "    n=len(arr)\n",
    "    gap=n//2\n",
    "    karsilastirma_sayisi=0\n",
    "    yerdegistirme_sayisi=0\n",
    "    while gap > 0 :\n",
    "        for i in range(gap,n):\n",
    "            karsilastirma_sayisi+=1\n",
    "            temp=arr[i]\n",
    "            j=i\n",
    "\n",
    "            while j >= gap and arr[j-gap]>temp:\n",
    "                karsilastirma_sayisi+=1\n",
    "                yerdegistirme_sayisi+=1\n",
    "                arr[j] = arr[j-gap]\n",
    "                j -= gap\n",
    "            arr[j] = temp\n",
    "        gap//=2\n",
    "    return karsilastirma_sayisi,yerdegistirme_sayisi"
   ]
  },
  {
   "cell_type": "code",
   "execution_count": 155,
   "metadata": {},
   "outputs": [
    {
     "name": "stdout",
     "output_type": "stream",
     "text": [
      "(890, 387)\n"
     ]
    }
   ],
   "source": [
    "random.seed(42)\n",
    "arr=get_n_random_integer(100)\n",
    "print(ShellSort(arr))"
   ]
  },
  {
   "cell_type": "code",
   "execution_count": null,
   "metadata": {},
   "outputs": [],
   "source": [
    "#shellsort >insertion > bubble"
   ]
  },
  {
   "cell_type": "code",
   "execution_count": null,
   "metadata": {},
   "outputs": [],
   "source": []
  },
  {
   "cell_type": "code",
   "execution_count": null,
   "metadata": {},
   "outputs": [],
   "source": []
  }
 ],
 "metadata": {
  "kernelspec": {
   "display_name": "Python 3",
   "language": "python",
   "name": "python3"
  },
  "language_info": {
   "codemirror_mode": {
    "name": "ipython",
    "version": 3
   },
   "file_extension": ".py",
   "mimetype": "text/x-python",
   "name": "python",
   "nbconvert_exporter": "python",
   "pygments_lexer": "ipython3",
   "version": "3.7.1"
  }
 },
 "nbformat": 4,
 "nbformat_minor": 2
}
