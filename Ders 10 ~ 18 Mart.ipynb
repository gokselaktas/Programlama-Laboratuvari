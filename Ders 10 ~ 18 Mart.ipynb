{
 "cells": [
  {
   "cell_type": "markdown",
   "metadata": {},
   "source": [
    "## Knapsack Problems\n",
    "\n",
    "*Object -Value - Weight - Value/Weight\n",
    " \n",
    "*Clock    -   175     -      10      -          17.5\n",
    "\n",
    "*Painting   -  90       -     9       -         10\n",
    "\n",
    "*Radio      -  20       -     4      -           5\n",
    "\n",
    "*Vase        - 50       -     2      -          25\n",
    "\n",
    "*Book         -10      -      1       -         10\n",
    "\n",
    "*Computer   - 200    -       20         -       10\n",
    "\n",
    "\n",
    "###### The problem is that most homes contain more things of value than the average burglar can carry away. What’s a poor burglar to do? He needs to find the set of things that provides the most value without exceeding his carrying capacity.\n"
   ]
  },
  {
   "cell_type": "code",
   "execution_count": 1,
   "metadata": {},
   "outputs": [],
   "source": [
    "class item(object):\n",
    "    def __init__(self,n,v,w,v_w):\n",
    "        self.name = n\n",
    "        self.value = v\n",
    "        self.weight = w\n",
    "        self.v_w = v_w\n",
    "\n",
    "def get_items():\n",
    "    items=[]\n",
    "    items.append(item('Clock',175,10,17.5))\n",
    "    items.append(item('Painting',90,9,10))\n",
    "    items.append(item('Radio',20,4,5))\n",
    "    items.append(item('Vase',50,2,25))\n",
    "    items.append(item('Book',10,1,10))\n",
    "    items.append(item('Computer',200,20,10))\n",
    "    \n",
    "    return items\n",
    "\n",
    "def print_items(items):\n",
    "    for item in items:\n",
    "        print(item.name,item.value)\n",
    "\n",
    "def sort_my_items(items):\n",
    "    return sorted(items,key=lambda item:items.name,reserve=True)\n",
    "        \n",
    "def test():\n",
    "    items = get_items()\n",
    "    print_items(items)\n",
    "    print(\"------- sorted items -----------\")\n",
    "    items = sort_my_items(items)\n",
    "    print_items(items)\n",
    "    "
   ]
  },
  {
   "cell_type": "code",
   "execution_count": 2,
   "metadata": {},
   "outputs": [],
   "source": [
    "def get_list_for_burglar(items,maxWeight):\n",
    "    result=[]\n",
    "    totalValue,totalWeight= 0,0\n",
    "    for i in range(len(items)):\n",
    "        if(totalWeight+items[i].weight<=maxWeight):\n",
    "            result.append(items[i])\n",
    "            totalWeight = totalWeight + items[i].weight\n",
    "            totalValue = totalValue + items[i].value\n",
    "    return (result,totalValue)\n",
    "\n",
    "\n",
    "def print_result(items_2):\n",
    "    for item_1 in items_2[0]:\n",
    "        print(item_1.name)\n",
    "    print(items_2[1])"
   ]
  },
  {
   "cell_type": "code",
   "execution_count": 3,
   "metadata": {},
   "outputs": [
    {
     "name": "stdout",
     "output_type": "stream",
     "text": [
      "Clock\n",
      "Painting\n",
      "Book\n",
      "275\n"
     ]
    }
   ],
   "source": [
    "items_1 = get_items()\n",
    "items_2 =  get_list_for_burglar(items_1,20)\n",
    "print_result(items_2)"
   ]
  }
 ],
 "metadata": {
  "kernelspec": {
   "display_name": "Python 3",
   "language": "python",
   "name": "python3"
  },
  "language_info": {
   "codemirror_mode": {
    "name": "ipython",
    "version": 3
   },
   "file_extension": ".py",
   "mimetype": "text/x-python",
   "name": "python",
   "nbconvert_exporter": "python",
   "pygments_lexer": "ipython3",
   "version": "3.7.1"
  }
 },
 "nbformat": 4,
 "nbformat_minor": 2
}
