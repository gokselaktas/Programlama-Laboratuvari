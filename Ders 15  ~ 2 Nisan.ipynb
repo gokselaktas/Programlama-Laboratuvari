{
 "cells": [
  {
   "cell_type": "markdown",
   "metadata": {},
   "source": [
    "######  1) Bir fonksiyona text , string 2 parametre aktariliyor \n",
    "* A=) (string) text te var ise True yoksa False donduren bir fonksiyon yaziniz.\n",
    "* B=) varsa bulundugu ilk konumun baslangic indexini return eden bir fonksiyon yaziniz.\n",
    "* C=) ikinci gonderilen parametre birinci parametrede n defa bulunuyorsa bulundugu yerlerin baslangic indisini liste halinde geri donduren fonksiyonu yaziniz."
   ]
  },
  {
   "cell_type": "code",
   "execution_count": null,
   "metadata": {},
   "outputs": [],
   "source": [
    "def string_search (text, string):\n",
    "     return string in text, text.find(string), text.find(string)+len(string)-1\n",
    "\n",
    "def complete_string_search(text, string):\n",
    "    indices = []\n",
    "    while string in text:\n",
    "        indice = text.find(string)\n",
    "        indices.append(indice)\n",
    "        text = text[indice+len(string)-1:]\n",
    "    return indices\n",
    "\n",
    "string_search('Onsekiz Mart Universitesi', 'iversi')"
   ]
  },
  {
   "cell_type": "markdown",
   "metadata": {},
   "source": [
    "---------------------------------------------------------------------------------"
   ]
  },
  {
   "cell_type": "markdown",
   "metadata": {},
   "source": [
    "###### 2) Tersten okunusu ile ayni olan kelimeleri test eden bir fonksiyon yaziniz"
   ]
  },
  {
   "cell_type": "code",
   "execution_count": 1,
   "metadata": {},
   "outputs": [
    {
     "name": "stdout",
     "output_type": "stream",
     "text": [
      "tersten okunusu ile ayni\n"
     ]
    }
   ],
   "source": [
    "def terskelime():\n",
    "    kelime = \"exe\"\n",
    "    a = len(kelime)\n",
    "    true=0\n",
    "    for i in range(len(kelime)):\n",
    "        if kelime[i] == kelime[a-1]:\n",
    "            true+=1\n",
    "        else:\n",
    "            true=0\n",
    "        a-=1\n",
    "    if true==len(kelime):\n",
    "        print(\"tersten okunusu ile ayni\")\n",
    "    else:\n",
    "        print(\"tersten okunusu ile ayni degil\")\n",
    "\n",
    "terskelime()"
   ]
  },
  {
   "cell_type": "markdown",
   "metadata": {},
   "source": [
    "---------------------------------------------------------------------------------"
   ]
  },
  {
   "cell_type": "markdown",
   "metadata": {},
   "source": [
    "###### 3) \n",
    "* A) nxn tane karakteri nxn matrise atayan bir fonksiyon yaziniz. \n",
    "* B) Kendisine aktarilan bir kelimeyi bu matris uzerinde soldan saga, sagdan sola, yukaridan asagiya, asagidan yukariya dogrultularinda arayip olup olmadigini return eden bir fonksiyon yaziniz."
   ]
  },
  {
   "cell_type": "markdown",
   "metadata": {},
   "source": [
    "---------------------------------------------------------------------------------"
   ]
  },
  {
   "cell_type": "markdown",
   "metadata": {},
   "source": [
    "###### 4) Kendisine aktarilan bir listedeki sayilarin ortalamasini ve  standart sapmasini bulan(return eden) bir fonksiyon yaziniz."
   ]
  },
  {
   "cell_type": "code",
   "execution_count": 2,
   "metadata": {},
   "outputs": [
    {
     "data": {
      "text/plain": [
       "(5.5, 3.0276503540974917)"
      ]
     },
     "execution_count": 2,
     "metadata": {},
     "output_type": "execute_result"
    }
   ],
   "source": [
    "sayilar =[1,2,3,4,5,6,7,8,9,10]\n",
    "def ortandstdev():\n",
    "    ortalama=0\n",
    "    for i in range(len(sayilar)+1):\n",
    "        ortalama+=i\n",
    "    ortalama/=len(sayilar)\n",
    "    \n",
    "    toplam=0\n",
    "    for i in range(len(sayilar)):\n",
    "        toplam += (sayilar[i]-ortalama)**2\n",
    "    standartsapma = (toplam/(len(sayilar)-1))**0.5\n",
    "    \n",
    "    return ortalama , standartsapma\n",
    "        \n",
    "ortandstdev()"
   ]
  },
  {
   "cell_type": "markdown",
   "metadata": {},
   "source": [
    "---------------------------------------------------------------------------------"
   ]
  },
  {
   "cell_type": "markdown",
   "metadata": {},
   "source": [
    "###### 5) Bir matris veriliyor matrisin determinantini bulunuz \n"
   ]
  },
  {
   "cell_type": "code",
   "execution_count": 3,
   "metadata": {},
   "outputs": [
    {
     "data": {
      "text/plain": [
       "-154"
      ]
     },
     "execution_count": 3,
     "metadata": {},
     "output_type": "execute_result"
    }
   ],
   "source": [
    "matrix1=[[1,4,5],[7,5,4],[7,3,8]]# determinanti = -154\n",
    "def det_3x3(matrix):\n",
    "    det = 0\n",
    "    for i in range(0,3):\n",
    "        index = i\n",
    "        carpimpoz=1\n",
    "        carpimneg=1\n",
    "        for j in range(0,3):\n",
    "            carpimpoz *= matrix[index][j]\n",
    "            carpimneg *= matrix[2-index][j]\n",
    "            index = (index+1)%3\n",
    "        det += carpimpoz\n",
    "        det -= carpimneg\n",
    "    return det\n",
    "det_3x3(matrix1)"
   ]
  },
  {
   "cell_type": "markdown",
   "metadata": {},
   "source": [
    "---------------------------------------------------------------------------------"
   ]
  },
  {
   "cell_type": "markdown",
   "metadata": {},
   "source": [
    "###### 6)  Bir matris veriliyor matris tekil matrismidir kontrol eden fonksiyonu yaziniz."
   ]
  },
  {
   "cell_type": "code",
   "execution_count": 4,
   "metadata": {},
   "outputs": [
    {
     "data": {
      "text/plain": [
       "True"
      ]
     },
     "execution_count": 4,
     "metadata": {},
     "output_type": "execute_result"
    }
   ],
   "source": [
    "def tekil(matrix):\n",
    "    return det_3x3(matrix)==0\n",
    "matrix2 = [[1,2,3],[4,5,6],[7,8,9]] # det(matrix2)= 0\n",
    "tekil(matrix2)"
   ]
  },
  {
   "cell_type": "markdown",
   "metadata": {},
   "source": [
    "---------------------------------------------------------------------------------"
   ]
  },
  {
   "cell_type": "markdown",
   "metadata": {},
   "source": [
    "###### 7) Bir matris veriliyor matrisi elemanter satir islemleriyle kosegen matrise donusturen fonksiyonu yaziniz."
   ]
  },
  {
   "cell_type": "code",
   "execution_count": 5,
   "metadata": {},
   "outputs": [
    {
     "data": {
      "text/plain": [
       "[[1.0, 0.0, 0.0], [0.0, 35.0, 0.0], [0.0, 0.0, 100.97142857142858]]"
      ]
     },
     "execution_count": 5,
     "metadata": {},
     "output_type": "execute_result"
    }
   ],
   "source": [
    "matrix3= [[1,2,3],[4,43,6],[7,8,123]]\n",
    "def elementer(m):\n",
    "    for i in range(len(m)):\n",
    "        for j in range(len(m)-1, i, -1):\n",
    "            kat = m[j][i] / m[i][i]\n",
    "            for k in range(len(m[0])):\n",
    "                m[j][k] -= kat*m[i][k]\n",
    "    for i in range(len(m)-1, 0, -1):\n",
    "        for j in range(i-1, -1, -1):\n",
    "            kat = m[j][i] / m[i][i]\n",
    "            for k in range(len(m[0])):\n",
    "                m[j][k] -= kat * m[i][k]\n",
    "    return m\n",
    "\n",
    "\n",
    "elementer(matrix3)"
   ]
  },
  {
   "cell_type": "markdown",
   "metadata": {},
   "source": [
    "---------------------------------------------------------------------------------"
   ]
  },
  {
   "cell_type": "markdown",
   "metadata": {},
   "source": [
    "###### 8) Bir matriste satir ve sutunlarinin toplami en kucuk ve en buyuk olan satir ve sutunlari bulan fonksiyonu yaziniz."
   ]
  },
  {
   "cell_type": "code",
   "execution_count": 26,
   "metadata": {},
   "outputs": [
    {
     "name": "stdout",
     "output_type": "stream",
     "text": [
      "maksimum toplama sahip satir: [7, 8, 9]\n",
      "maksimum toplama sahip sutun: [3, 6, 9, 4]\n"
     ]
    }
   ],
   "source": [
    "def maks_satir(matrix):\n",
    "    satir_toplam = sum(matrix[0])\n",
    "    maximum = 0\n",
    "    for satir in matrix:\n",
    "        if sum(satir) > satir_toplam:\n",
    "            satir_toplam = sum(satir)\n",
    "            maximum = satir\n",
    "    return maximum\n",
    "\n",
    "def maks_sutun(matrix):\n",
    "    result=[]\n",
    "    for i in range(len(matrix[0])):\n",
    "        result.append([])\n",
    "    for i in range(len(matrix)):\n",
    "        for j in range(len(matrix[0])):\n",
    "            result[j].append(matrix[i][j]) #1\n",
    "            \n",
    "    sutun_toplam = sum(result[0]) # sutun aslinda satir\n",
    "    maximum=0\n",
    "    for sutun in result:\n",
    "        if sum(sutun)> sutun_toplam:\n",
    "            sutun_toplam=sum(sutun)\n",
    "            maximum = sutun\n",
    "    return maximum\n",
    "    \n",
    "            \n",
    "            \n",
    "\n",
    "matrix4 = [[1,2,3],[4,5,6],[7,8,9],[2,3,4]]\n",
    "print(\"maksimum toplama sahip satir:\",maks_satir(matrix4))\n",
    "print(\"maksimum toplama sahip sutun:\",maks_sutun(matrix4))\n",
    "\n"
   ]
  },
  {
   "cell_type": "markdown",
   "metadata": {},
   "source": [
    "---------------------------------------------------------------------------------"
   ]
  },
  {
   "cell_type": "markdown",
   "metadata": {},
   "source": [
    "###### 9)    matriste kac tane 0 oldugunu bulan bir fonksiyon yaziniz.\n",
    "*    matristeki 0 orani % 30 un altinda ise bu matrisi 2 boyutlu listeden bir hash yapisina aktariniz.\n",
    "*    0 lar bol oldugu icin hash yapisi ile olusturulmus matrisi 2 boyutlu listeye aktariniz."
   ]
  },
  {
   "cell_type": "code",
   "execution_count": 5,
   "metadata": {},
   "outputs": [
    {
     "data": {
      "text/plain": [
       "0.2222222222222222"
      ]
     },
     "execution_count": 5,
     "metadata": {},
     "output_type": "execute_result"
    }
   ],
   "source": [
    "def count_zeros(matrix):\n",
    "    counter = 0\n",
    "    for row in matrix:\n",
    "        counter += row.count(0)\n",
    "    return counter/(len(matrix)*len(matrix[0]))\n",
    "\n",
    "deneme = [[1,2,0],[0,1,2],[1,2,3]]\n",
    "count_zeros(deneme)"
   ]
  },
  {
   "cell_type": "code",
   "execution_count": 9,
   "metadata": {},
   "outputs": [
    {
     "name": "stdout",
     "output_type": "stream",
     "text": [
      "0 6 5 3 2 \n",
      "3 0 0 10 2 \n",
      "4 2 10 7 8 \n",
      "0 10 8 9 1 \n",
      "  \n",
      "0 6 5 3 2 3 0 0 10 2 4 2 10 7 8 0 10 8 9 1   \n",
      "0 6 5 3 2 3 0 0 10 2 4 2 10 7 8 0 10 8 9 1 "
     ]
    }
   ],
   "source": [
    "from random import randint\n",
    "def create (m:int, n:int):\n",
    "    return [[randint(0,10) for j in range(n)] for i in range(m)]\n",
    "\n",
    "def print_array(my_list):\n",
    "    for row in my_list:\n",
    "        for element in row:\n",
    "            print(element, end = ' ')\n",
    "        print()\n",
    "            \n",
    "def convert_to_hash(my_list):\n",
    "    my_dict = {}\n",
    "    if count_zeros(my_list) < 0.3:\n",
    "        for i in range(len(my_list)):\n",
    "            for j in range(len(my_list[i])):\n",
    "                my_dict[(i, j)] = my_list[i][j]\n",
    "        return my_dict\n",
    "    else:\n",
    "        return my_list\n",
    "\n",
    "                        \n",
    "def print_hash(my_hash_list):\n",
    "    print ('  ')\n",
    "    for key in my_hash_list:\n",
    "        print(my_hash_list[key], end = ' ')\n",
    "\n",
    "array = create(4,5)\n",
    "print_array(array)\n",
    "array = convert_to_hash(array)\n",
    "print_hash(array)\n",
    "\n",
    "if type(array) != list:\n",
    "    print_hash(array)\n",
    "else:\n",
    "    print(array)\n"
   ]
  },
  {
   "cell_type": "code",
   "execution_count": 61,
   "metadata": {},
   "outputs": [
    {
     "data": {
      "text/plain": [
       "list"
      ]
     },
     "execution_count": 61,
     "metadata": {},
     "output_type": "execute_result"
    }
   ],
   "source": [
    "array=[]\n",
    "type(array)"
   ]
  },
  {
   "cell_type": "markdown",
   "metadata": {},
   "source": [
    "---------------------------------------------------------------------------------"
   ]
  },
  {
   "cell_type": "markdown",
   "metadata": {},
   "source": [
    "###### 10) Hash yapisi ile gosterilen matrislere ait toplama cikarma carpma islemlerini yapan fonksiyonlari yaziniz."
   ]
  },
  {
   "cell_type": "code",
   "execution_count": 46,
   "metadata": {},
   "outputs": [],
   "source": [
    "matrix5= [[1,2,3],[4,5,6],[7,8,9]]\n",
    "matrix6= [[1,2,3],[4,5,6],[7,8,9]]\n",
    "def matrix_to_dict(m): # matrisi dict type'a donusturdu\n",
    "    mydict ={}\n",
    "    for i in range(len(m)):\n",
    "        for j in range(len(m[i])):\n",
    "            mydict[(i,j)] = m[i][j]\n",
    "    return mydict\n",
    "\n",
    "def toplama(m1,m2):\n",
    "    m1 = matrix_to_dict(m1)\n",
    "    m2 = matrix_to_dict(m2)\n",
    "    result={}\n",
    "    for k in m1:\n",
    "            result[(k[0],k[1])] = m1[(k[0],k[1])]+m2[(k[0],k[1])]\n",
    "    return result\n",
    "\n",
    "def cikarma(m1,m2):\n",
    "    m1 = matrix_to_dict(m1)\n",
    "    m2 = matrix_to_dict(m2)\n",
    "    result={}\n",
    "    for k in m1:\n",
    "            result[(k[0],k[1])] = m1[(k[0],k[1])]-m2[(k[0],k[1])]\n",
    "    return result\n",
    "\n",
    "def carpim(m1,m2):\n",
    "    pass # :'(\n",
    "\n",
    "def transpose(m):\n",
    "    m = matrix_to_dict(m)\n",
    "    result={}\n",
    "    for k in m:\n",
    "        result[(k[1],k[0])] = m[(k[0],k[1])]\n",
    "    return result\n",
    "        \n"
   ]
  },
  {
   "cell_type": "code",
   "execution_count": 10,
   "metadata": {},
   "outputs": [
    {
     "data": {
      "text/plain": [
       "{(0, 0): 1,\n",
       " (0, 1): 2,\n",
       " (0, 2): 3,\n",
       " (1, 0): 4,\n",
       " (1, 1): 5,\n",
       " (1, 2): 6,\n",
       " (2, 0): 7,\n",
       " (2, 1): 8,\n",
       " (2, 2): 9}"
      ]
     },
     "execution_count": 10,
     "metadata": {},
     "output_type": "execute_result"
    }
   ],
   "source": [
    "matrix5= [[1,2,3],[4,5,6],[7,8,9]]\n",
    "matrix6= [[1,2,3],[4,5,6],[7,8,9]]\n",
    "\n",
    "def matrix_to_dict(m):\n",
    "    mydict ={}\n",
    "    for i in range(len(m)):\n",
    "        for j in range(len(m[i])):\n",
    "            mydict[(i,j)] = m[i][j]\n",
    "    return mydict\n",
    "    \n",
    "matrixdict5=matrix_to_dict(matrix5)\n",
    "matrixdict5"
   ]
  },
  {
   "cell_type": "markdown",
   "metadata": {},
   "source": [
    "---------------------------------------------------------------------------------"
   ]
  },
  {
   "cell_type": "markdown",
   "metadata": {},
   "source": [
    "###### ~?\n",
    "* (formul bize verilecek) su formule gore sunun kokunu su hassasiyetle hesaplayiniz\n",
    "* karekok hesabi olabilir\n",
    "* e^10 olabilir\n",
    "* pi sayisi olabilir."
   ]
  },
  {
   "cell_type": "markdown",
   "metadata": {},
   "source": [
    "---------------------------------------------------------------------------------"
   ]
  },
  {
   "cell_type": "markdown",
   "metadata": {},
   "source": [
    "* Lab uygulamalarinda kelime frekanslarini buldugumuz sorudaki  yapinin turu hash idi  hash tipini liste yapisina aktarmamizi istiyor "
   ]
  },
  {
   "cell_type": "code",
   "execution_count": 7,
   "metadata": {},
   "outputs": [],
   "source": [
    "\"mxn formunda butun elemanlari -1 olan 2 boyutlu bir liste olustur\"\n",
    "\n",
    "sutun=6\n",
    "satir=5\n",
    "matris = [[-1 for i in range(sutun)] for i in range(satir)]\n",
    "\"mxn formunda n<m ise  nxn seklinde birim matris \"\n",
    "\"             m<n ise  mxm seklinde birim matris\"\n",
    "birim = [[1 if i == j else 0 for i in range(sutun)]for j in range(satir)]\n",
    "deneme = [[i if 1 else i+1 for i in range(sutun)]for j in range(satir)]"
   ]
  },
  {
   "cell_type": "code",
   "execution_count": 8,
   "metadata": {},
   "outputs": [
    {
     "data": {
      "text/plain": [
       "[[0, 1, 2, 3, 4, 5],\n",
       " [0, 1, 2, 3, 4, 5],\n",
       " [0, 1, 2, 3, 4, 5],\n",
       " [0, 1, 2, 3, 4, 5],\n",
       " [0, 1, 2, 3, 4, 5]]"
      ]
     },
     "execution_count": 8,
     "metadata": {},
     "output_type": "execute_result"
    }
   ],
   "source": [
    "deneme"
   ]
  },
  {
   "cell_type": "code",
   "execution_count": 8,
   "metadata": {},
   "outputs": [
    {
     "name": "stdout",
     "output_type": "stream",
     "text": [
      "[-1, -1, -1, -1, -1, -1]\n",
      "[-1, -1, -1, -1, -1, -1]\n",
      "[-1, -1, -1, -1, -1, -1]\n",
      "[-1, -1, -1, -1, -1, -1]\n",
      "[-1, -1, -1, -1, -1, -1]\n"
     ]
    }
   ],
   "source": [
    "for i in range(len(matris)):\n",
    "    print(matris[i])"
   ]
  },
  {
   "cell_type": "code",
   "execution_count": 9,
   "metadata": {},
   "outputs": [
    {
     "name": "stdout",
     "output_type": "stream",
     "text": [
      "[1, 0, 0, 0, 0, 0]\n",
      "[0, 1, 0, 0, 0, 0]\n",
      "[0, 0, 1, 0, 0, 0]\n",
      "[0, 0, 0, 1, 0, 0]\n",
      "[0, 0, 0, 0, 1, 0]\n"
     ]
    }
   ],
   "source": [
    "for i in range(len(birim)):\n",
    "    print(birim[i])"
   ]
  },
  {
   "cell_type": "code",
   "execution_count": 10,
   "metadata": {},
   "outputs": [],
   "source": [
    "import random\n",
    "def my_function_create(m,n):\n",
    "    my_list=[]\n",
    "    for i in range(m):\n",
    "        my_list.append([])\n",
    "        for j in range(n):\n",
    "            s = random.randint(-2,2)\n",
    "            #s= -1\n",
    "            my_list[i].append(s)\n",
    "    return my_list\n",
    "\n",
    "\n",
    "def my_function_print(myList):\n",
    "    for i in range(len(myList)):\n",
    "        for j in range(len(myList[0])):\n",
    "            print(\"[\",myList[i][j],\"]\",end=\" \")\n",
    "        print()\n",
    "\n",
    "def my_function_convert_to_hash(myList):\n",
    "    my_dict={}\n",
    "    for i in range(len(myList)):\n",
    "        for j in range(len(myList[0])):\n",
    "            my_dict[(i,j)] = myList[i][j]\n",
    "            #print(\"[\",myList[i][j],\"]\",end=\" \")\n",
    "        #print()\n",
    "    return my_dict\n",
    "\n",
    "def my_function_print_hash(myHashList):\n",
    "    print(\"  \")\n",
    "    for key in myHashList:\n",
    "        print(myHashList[key],end=\" \")\n",
    "        \n"
   ]
  },
  {
   "cell_type": "code",
   "execution_count": 11,
   "metadata": {},
   "outputs": [
    {
     "data": {
      "text/plain": [
       "{(0, 0): 1, (0, 1): -1, (1, 0): -2, (1, 1): 2, (2, 0): 2, (2, 1): 1}"
      ]
     },
     "execution_count": 11,
     "metadata": {},
     "output_type": "execute_result"
    }
   ],
   "source": [
    "my_2d_array = my_function_create(3,2)\n",
    "my_function_convert_to_hash(my_2d_array)"
   ]
  },
  {
   "cell_type": "code",
   "execution_count": 12,
   "metadata": {},
   "outputs": [
    {
     "name": "stdout",
     "output_type": "stream",
     "text": [
      "  \n",
      "1 -1 -2 2 2 1 "
     ]
    }
   ],
   "source": [
    "my_2d_hash = my_function_convert_to_hash(my_2d_array)\n",
    "my_function_print_hash(my_2d_hash)"
   ]
  }
 ],
 "metadata": {
  "kernelspec": {
   "display_name": "Python 3",
   "language": "python",
   "name": "python3"
  },
  "language_info": {
   "codemirror_mode": {
    "name": "ipython",
    "version": 3
   },
   "file_extension": ".py",
   "mimetype": "text/x-python",
   "name": "python",
   "nbconvert_exporter": "python",
   "pygments_lexer": "ipython3",
   "version": "3.6.8"
  }
 },
 "nbformat": 4,
 "nbformat_minor": 2
}
