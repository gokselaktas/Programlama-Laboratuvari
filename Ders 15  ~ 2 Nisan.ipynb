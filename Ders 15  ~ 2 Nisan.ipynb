{
 "cells": [
  {
   "cell_type": "markdown",
   "metadata": {},
   "source": [
    "######  1) Bir fonksiyona text , string 2 parametre aktariliyor \n",
    "* A=) (string) text te var ise True yoksa False donduren bir fonksiyon yaziniz.\n",
    "* B=) varsa bulundugu ilk konumun baslangic indexini return eden bir fonksiyon yaziniz.\n",
    "* C=) ikinci gonderilen parametre birinci parametrede n defa bulunuyorsa bulundugu yerlerin baslangic indisini liste halinde geri donduren fonksiyonu yaziniz."
   ]
  },
  {
   "cell_type": "markdown",
   "metadata": {},
   "source": [
    "---------------------------------------------------------------------------------"
   ]
  },
  {
   "cell_type": "markdown",
   "metadata": {},
   "source": [
    "###### 2) Tersten okunusu ile ayni olan kelimeleri test eden bir fonksiyon yaziniz"
   ]
  },
  {
   "cell_type": "markdown",
   "metadata": {},
   "source": [
    "---------------------------------------------------------------------------------"
   ]
  },
  {
   "cell_type": "markdown",
   "metadata": {},
   "source": [
    "###### 3) \n",
    "* A) nxn tane karakteri nxn matrise atayan bir fonksiyon yaziniz. \n",
    "* B) Kendisine aktarilan bir kelimeyi bu matris uzerinde soldan saga, sagdan sola, yukaridan asagiya, asagidan yukariya dogrultularinda arayip olup olmadigini return eden bir fonksiyon yaziniz."
   ]
  },
  {
   "cell_type": "markdown",
   "metadata": {},
   "source": [
    "---------------------------------------------------------------------------------"
   ]
  },
  {
   "cell_type": "markdown",
   "metadata": {},
   "source": [
    "###### 4) Kendisine aktarilan bir listedeki sayilarin ortalamasini ve  standart sapmasini bulan(return eden) bir fonksiyon yaziniz."
   ]
  },
  {
   "cell_type": "markdown",
   "metadata": {},
   "source": [
    "---------------------------------------------------------------------------------"
   ]
  },
  {
   "cell_type": "markdown",
   "metadata": {},
   "source": [
    "###### 5) Bir matris veriliyor matrisin determinantini bulunuz \n"
   ]
  },
  {
   "cell_type": "markdown",
   "metadata": {},
   "source": [
    "---------------------------------------------------------------------------------"
   ]
  },
  {
   "cell_type": "markdown",
   "metadata": {},
   "source": [
    "###### 6)  Bir matris veriliyor matris tekil matrismidir kontrol eden fonksiyonu yaziniz."
   ]
  },
  {
   "cell_type": "markdown",
   "metadata": {},
   "source": [
    "---------------------------------------------------------------------------------"
   ]
  },
  {
   "cell_type": "markdown",
   "metadata": {},
   "source": [
    "###### 7) Bir matris veriliyor matrisi elemanter satir islemleriyle kosegen matrise donusturen fonksiyonu yaziniz."
   ]
  },
  {
   "cell_type": "markdown",
   "metadata": {},
   "source": [
    "---------------------------------------------------------------------------------"
   ]
  },
  {
   "cell_type": "markdown",
   "metadata": {},
   "source": [
    "###### 8) Bir matriste satir ve sutunlarinin toplami en kucuk ve en buyuk olan satir ve sutunlari bulan fonksiyonu yaziniz."
   ]
  },
  {
   "cell_type": "markdown",
   "metadata": {},
   "source": [
    "---------------------------------------------------------------------------------"
   ]
  },
  {
   "cell_type": "markdown",
   "metadata": {},
   "source": [
    "###### 9)    matriste kac tane 0 oldugunu bulan bir fonksiyon yaziniz.\n",
    "*    matristeki 0 orani % 30 un altinda ise bu matrisi 2 boyutlu listeden bir hash yapisina aktariniz.\n",
    "*    0 lar bol oldugu icin hash yapisi ile olusturulmus matrisi 2 boyutlu listeye aktariniz."
   ]
  },
  {
   "cell_type": "markdown",
   "metadata": {},
   "source": [
    "---------------------------------------------------------------------------------"
   ]
  },
  {
   "cell_type": "markdown",
   "metadata": {},
   "source": [
    "###### 10) Hash yapisi ile gosterilen matrislere ait toplama cikarma carpma islemlerini yapan fonksiyonlari yaziniz."
   ]
  },
  {
   "cell_type": "markdown",
   "metadata": {},
   "source": [
    "---------------------------------------------------------------------------------"
   ]
  },
  {
   "cell_type": "markdown",
   "metadata": {},
   "source": [
    "###### ~?\n",
    "* (formul bize verilecek) su formule gore sunun kokunu su hassasiyetle hesaplayiniz\n",
    "* karekok hesabi olabilir\n",
    "* e^10 olabilir\n",
    "* pi sayiisi olabilir."
   ]
  },
  {
   "cell_type": "markdown",
   "metadata": {},
   "source": [
    "---------------------------------------------------------------------------------"
   ]
  },
  {
   "cell_type": "markdown",
   "metadata": {},
   "source": [
    "* Lab uygulamalarinda kelime frekanslarini buldugumuz sorudaki  yapinin turu hash idi  hash tipini liste yapisina aktarmamizi istiyor "
   ]
  },
  {
   "cell_type": "code",
   "execution_count": 9,
   "metadata": {},
   "outputs": [],
   "source": [
    "\"mxn formunda butun elemanlari -1 olan 2 boyutlu bir liste olustur\"\n",
    "\n",
    "sutun=6\n",
    "satir=5\n",
    "matris = [[-1 for i in range(sutun)] for i in range(satir)]\n",
    "\"mxn formunda n<m ise  nxn seklinde birim matris \"\n",
    "\"             m<n ise  mxm seklinde birim matris\"\n",
    "birim = [[1 if i == j else 0 for i in range(sutun)]for j in range(satir)]"
   ]
  },
  {
   "cell_type": "code",
   "execution_count": 10,
   "metadata": {},
   "outputs": [
    {
     "name": "stdout",
     "output_type": "stream",
     "text": [
      "[-1, -1, -1, -1, -1, -1]\n",
      "[-1, -1, -1, -1, -1, -1]\n",
      "[-1, -1, -1, -1, -1, -1]\n",
      "[-1, -1, -1, -1, -1, -1]\n",
      "[-1, -1, -1, -1, -1, -1]\n"
     ]
    }
   ],
   "source": [
    "for i in range(len(matris)):\n",
    "    print(matris[i])"
   ]
  },
  {
   "cell_type": "code",
   "execution_count": 11,
   "metadata": {},
   "outputs": [
    {
     "name": "stdout",
     "output_type": "stream",
     "text": [
      "[1, 0, 0, 0, 0, 0]\n",
      "[0, 1, 0, 0, 0, 0]\n",
      "[0, 0, 1, 0, 0, 0]\n",
      "[0, 0, 0, 1, 0, 0]\n",
      "[0, 0, 0, 0, 1, 0]\n"
     ]
    }
   ],
   "source": [
    "for i in range(len(birim)):\n",
    "    print(birim[i])"
   ]
  },
  {
   "cell_type": "code",
   "execution_count": 3,
   "metadata": {},
   "outputs": [],
   "source": [
    "import random\n",
    "def my_function_create(m,n):\n",
    "    my_list=[]\n",
    "    for i in range(m):\n",
    "        my_list.append([])\n",
    "        for j in range(n):\n",
    "            s = random.randint(-2,2)\n",
    "            #s= -1\n",
    "            my_list[i].append(s)\n",
    "    return my_list\n",
    "\n",
    "\n",
    "def my_function_print(myList):\n",
    "    for i in range(len(myList)):\n",
    "        for j in range(len(myList[0])):\n",
    "            print(\"[\",myList[i][j],\"]\",end=\" \")\n",
    "        print()\n",
    "\n",
    "def my_function_convert_to_hash(myList):\n",
    "    my_dict={}\n",
    "    for i in range(len(myList)):\n",
    "        for j in range(len(myList[0])):\n",
    "            my_dict[(i,j)] = myList[i][j]\n",
    "            #print(\"[\",myList[i][j],\"]\",end=\" \")\n",
    "        #print()\n",
    "    return my_dict\n",
    "\n",
    "def my_function_print_hash(myHashList):\n",
    "    print(\"  \")\n",
    "    for key in myHashList:\n",
    "        print(myHashList[key],end=\" \")\n",
    "        \n"
   ]
  },
  {
   "cell_type": "code",
   "execution_count": 4,
   "metadata": {},
   "outputs": [
    {
     "data": {
      "text/plain": [
       "{(0, 0): -1, (0, 1): -2, (1, 0): -2, (1, 1): 2, (2, 0): 1, (2, 1): 0}"
      ]
     },
     "execution_count": 4,
     "metadata": {},
     "output_type": "execute_result"
    }
   ],
   "source": [
    "my_2d_array = my_function_create(3,2)\n",
    "my_function_convert_to_hash(my_2d_array)"
   ]
  },
  {
   "cell_type": "code",
   "execution_count": 5,
   "metadata": {},
   "outputs": [
    {
     "name": "stdout",
     "output_type": "stream",
     "text": [
      "  \n",
      "-1 -2 -2 2 1 0 "
     ]
    }
   ],
   "source": [
    "my_2d_hash = my_function_convert_to_hash(my_2d_array)\n",
    "my_function_print_hash(my_2d_hash)"
   ]
  }
 ],
 "metadata": {
  "kernelspec": {
   "display_name": "Python 3",
   "language": "python",
   "name": "python3"
  },
  "language_info": {
   "codemirror_mode": {
    "name": "ipython",
    "version": 3
   },
   "file_extension": ".py",
   "mimetype": "text/x-python",
   "name": "python",
   "nbconvert_exporter": "python",
   "pygments_lexer": "ipython3",
   "version": "3.6.8"
  }
 },
 "nbformat": 4,
 "nbformat_minor": 2
}
