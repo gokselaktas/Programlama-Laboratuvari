{
 "cells": [
  {
   "cell_type": "code",
   "execution_count": 1,
   "metadata": {},
   "outputs": [],
   "source": [
    "\n",
    "def gaussian(x, mu, sigma):\n",
    "    factor1 = (1.0/(sigma*((2*pylab.pi)**0.5)))\n",
    "    factor2 = pylab.e**-(((x-mu)**2)/(2*sigma**2))\n",
    "    return factor1*factor2\n"
   ]
  },
  {
   "cell_type": "code",
   "execution_count": 2,
   "metadata": {},
   "outputs": [],
   "source": [
    "##24 defa 2 kere zar atiliyor iki zarda 6 gelirse kazaniyoruz \n",
    "# bir defa 6-6 geldigi anda dongu bitiyor ve kazaniyoruz"
   ]
  },
  {
   "cell_type": "code",
   "execution_count": 3,
   "metadata": {},
   "outputs": [
    {
     "name": "stdout",
     "output_type": "stream",
     "text": [
      "0.4918\n"
     ]
    }
   ],
   "source": [
    "import random\n",
    "def rollDie():\n",
    "    return random.choice([1,2,3,4,5,6])\n",
    "\n",
    "def checkPascal(numTrials):\n",
    "    numWins = 0\n",
    "    for i in range(numTrials):\n",
    "        for j in range(24):\n",
    "            d1 = rollDie()\n",
    "            d2 = rollDie()\n",
    "            if d1 == 6 and d2 == 6:\n",
    "                numWins += 1\n",
    "                break\n",
    "    return numWins/numTrials\n",
    "    \n",
    "    \n",
    "# for i in range(1,36):\n",
    "#     print(\"deneme{} xd {}\".format(i,checkPascal(i)))\n",
    "a=checkPascal(10000)\n",
    "print(a)"
   ]
  },
  {
   "cell_type": "code",
   "execution_count": 4,
   "metadata": {},
   "outputs": [
    {
     "name": "stdout",
     "output_type": "stream",
     "text": [
      "(49530, 50470)\n",
      "(47691, 49530, 2779)\n"
     ]
    }
   ],
   "source": [
    "class CrapsGame(object):\n",
    "    def __init__(self):\n",
    "        self.passWins, self.passLosses = 0, 0\n",
    "        self.dpWins, self.dpLosses, self.dpPushes = 0, 0, 0 #dpLosses means don't pass Losses \n",
    "    def playHand(self):\n",
    "        throw = rollDie() + rollDie()\n",
    "        if throw == 7 or throw == 11:\n",
    "            self.passWins += 1\n",
    "            self.dpLosses += 1\n",
    "        elif throw == 2 or throw == 3 or throw == 12:\n",
    "            self.passLosses += 1\n",
    "            if throw == 12:\n",
    "                self.dpPushes += 1\n",
    "            else:\n",
    "                self.dpWins += 1\n",
    "        else:\n",
    "            point = throw\n",
    "            while True:\n",
    "                throw = rollDie() + rollDie()\n",
    "                if throw == point:\n",
    "                    self.passWins += 1\n",
    "                    self.dpLosses += 1\n",
    "                    break\n",
    "                elif throw == 7:\n",
    "                    self.passLosses += 1\n",
    "                    self.dpWins += 1\n",
    "                    break\n",
    "    def passResults(self):\n",
    "        return (self.passWins, self.passLosses)\n",
    "    def dpResults(self):\n",
    "        return (self.dpWins, self.dpLosses, self.dpPushes)\n",
    "    \n",
    "    \n",
    "c=CrapsGame()\n",
    "for i in range(100000):\n",
    "    c.playHand()\n",
    "print(c.passResults())\n",
    "print(c.dpResults())"
   ]
  }
 ],
 "metadata": {
  "kernelspec": {
   "display_name": "Python 3",
   "language": "python",
   "name": "python3"
  },
  "language_info": {
   "codemirror_mode": {
    "name": "ipython",
    "version": 3
   },
   "file_extension": ".py",
   "mimetype": "text/x-python",
   "name": "python",
   "nbconvert_exporter": "python",
   "pygments_lexer": "ipython3",
   "version": "3.7.1"
  }
 },
 "nbformat": 4,
 "nbformat_minor": 2
}
