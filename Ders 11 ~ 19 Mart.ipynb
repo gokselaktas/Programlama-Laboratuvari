{
 "cells": [
  {
   "cell_type": "code",
   "execution_count": 1,
   "metadata": {},
   "outputs": [],
   "source": [
    "class myNode(object):\n",
    "    def __init__(self,v=0):\n",
    "        self.value = v\n",
    "        self.left = None\n",
    "        self.right = None \n",
    "\n",
    "        \n",
    "        \n",
    "class myTree(object):\n",
    "    def __init__(self):\n",
    "        self.root = myNode(250)\n",
    "        \n",
    "        \n",
    "    def insert(self,node_1):\n",
    "        if(self.root.value > node_1.value):\n",
    "            self.root.left=node_1#left.value...\n",
    "            \n",
    "        elif(self.root.value < node_1.value):\n",
    "            self.root.right = node_1\n",
    "        else:\n",
    "            print(\"duplicate error\")\n",
    "        \n",
    "    def search(node_1):\n",
    "        pass\n",
    "    def remove(node_1):\n",
    "        pass\n",
    "    def printTree():\n",
    "        pass\n",
    "\n",
    "\n",
    "\n",
    "\n"
   ]
  },
  {
   "cell_type": "code",
   "execution_count": 2,
   "metadata": {},
   "outputs": [
    {
     "name": "stdout",
     "output_type": "stream",
     "text": [
      "21 53 56 88 96 250 "
     ]
    }
   ],
   "source": [
    "import random\n",
    "class myTree(object):\n",
    "    def __init__(self):\n",
    "        self.root = myNode(250)\n",
    "class myNode(object):\n",
    "    def __init__(self,v=0):\n",
    "        self.val = v\n",
    "        self.left = None\n",
    "        self.right = None \n",
    "\n",
    "def inorder(root): \n",
    "    if root: \n",
    "        inorder(root.left) \n",
    "        print(root.val,end=\" \") \n",
    "        inorder(root.right) \n",
    "\n",
    "def insert_1(root,node):\n",
    "\n",
    "    if root is None: \n",
    "        root = node \n",
    "    else: \n",
    "        if root.val < node.val: \n",
    "            if root.right is None: \n",
    "                root.right = node \n",
    "            else: \n",
    "                insert_1(root.right, node) \n",
    "        else: \n",
    "            if root.left is None: \n",
    "                root.left = node \n",
    "            else: \n",
    "                insert_1(root.left, node) \n",
    "                import random\n",
    "def test():\n",
    "    numbers= []\n",
    "    for x in range(5):\n",
    "        numbers.append(random.randint(1,101)) \n",
    "    numbers\n",
    "    Tree_1 = myTree()\n",
    "    for n in numbers:\n",
    "        insert_1(Tree_1.root,myNode(n))\n",
    "    inorder(Tree_1.root)\n",
    "test()"
   ]
  },
  {
   "cell_type": "code",
   "execution_count": 3,
   "metadata": {},
   "outputs": [
    {
     "data": {
      "text/plain": [
       "[73, 96, 40, 13, 87, 47, 12, 96, 37, 17]"
      ]
     },
     "execution_count": 3,
     "metadata": {},
     "output_type": "execute_result"
    }
   ],
   "source": [
    "import random \n",
    "numbers= []\n",
    "for i in range(10):\n",
    "    numbers.append(random.randint(1,101))\n",
    "numbers"
   ]
  },
  {
   "cell_type": "code",
   "execution_count": 4,
   "metadata": {},
   "outputs": [],
   "source": [
    "Tree_1 = myTree()\n",
    "for n in numbers:\n",
    "    insert_1(Tree_1.root,myNode(n))"
   ]
  },
  {
   "cell_type": "code",
   "execution_count": 5,
   "metadata": {},
   "outputs": [],
   "source": [
    "def printTree(tree_1):\n",
    "    while(tree_1.left != None):\n",
    "        printTree(tree_1.left)\n",
    "    print(tree_1.value)\n",
    "    while(tree_1.right != None):\n",
    "        printTree(tree_1.right)\n",
    "        "
   ]
  },
  {
   "cell_type": "code",
   "execution_count": null,
   "metadata": {},
   "outputs": [],
   "source": []
  }
 ],
 "metadata": {
  "kernelspec": {
   "display_name": "Python 3",
   "language": "python",
   "name": "python3"
  },
  "language_info": {
   "codemirror_mode": {
    "name": "ipython",
    "version": 3
   },
   "file_extension": ".py",
   "mimetype": "text/x-python",
   "name": "python",
   "nbconvert_exporter": "python",
   "pygments_lexer": "ipython3",
   "version": "3.7.1"
  }
 },
 "nbformat": 4,
 "nbformat_minor": 2
}
