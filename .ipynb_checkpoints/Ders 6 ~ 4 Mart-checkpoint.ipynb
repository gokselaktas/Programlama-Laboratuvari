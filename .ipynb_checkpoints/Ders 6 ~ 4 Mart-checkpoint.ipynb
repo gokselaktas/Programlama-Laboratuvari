{
 "cells": [
  {
   "cell_type": "code",
   "execution_count": 5,
   "metadata": {},
   "outputs": [
    {
     "data": {
      "text/plain": [
       "[[1, 2, 3], [4, 5, 6]]"
      ]
     },
     "execution_count": 5,
     "metadata": {},
     "output_type": "execute_result"
    }
   ],
   "source": [
    "#matrislerde islemler \n",
    "#a list of alist of a list \n",
    "matrix_1=[[1,2,3],[4,5,6]]\n",
    "matrix_1\n"
   ]
  },
  {
   "cell_type": "code",
   "execution_count": 6,
   "metadata": {},
   "outputs": [
    {
     "name": "stdout",
     "output_type": "stream",
     "text": [
      "[[9, 8, 6], [14, 7, 15]]\n"
     ]
    }
   ],
   "source": [
    "def my_matrix_addition(m_1,m_2):\n",
    "    result=[]\n",
    "    for row in range(len(m_1)):\n",
    "        result.append([])\n",
    "        for column in range(len(m_1[0])):#2x3 matrix oldugu icin +1 yapinca sıkıntı çıkmadı\n",
    "                                         #2x5 matris oldugunda +1 calismayacaktir.\n",
    "            #print(m_1[row][column],end=\" \")\n",
    "            result[row].append(m_1[row][column]+m_2[row][column])\n",
    "      #  print()\n",
    "    return result\n",
    "matrix_1=[[4,6,3],[8,5,6]]\n",
    "matrix_2=[[5,2,3],[6,2,9]]\n",
    "r=my_matrix_addition(matrix_1,matrix_2)\n",
    "print(r)\n",
    "\n"
   ]
  },
  {
   "cell_type": "code",
   "execution_count": 7,
   "metadata": {},
   "outputs": [
    {
     "name": "stdout",
     "output_type": "stream",
     "text": [
      "[[-1, 4, 0], [2, 3, -3]]\n"
     ]
    }
   ],
   "source": [
    "def my_matrix_substraction(m_1,m_2):\n",
    "    result=[]\n",
    "    for row in range(len(m_1)):\n",
    "        result.append([])\n",
    "        for column in range(len(m_1[0])):\n",
    "            #print(m_1[row][column],end=\" \")\n",
    "            result[row].append(m_1[row][column]-m_2[row][column])\n",
    "      #  print()\n",
    "    return result\n",
    "matrix_1=[[4,6,3],[8,5,6]]\n",
    "matrix_2=[[5,2,3],[6,2,9]]\n",
    "r=my_matrix_substraction(matrix_1,matrix_2)\n",
    "print (r)"
   ]
  },
  {
   "cell_type": "code",
   "execution_count": 8,
   "metadata": {},
   "outputs": [
    {
     "name": "stdout",
     "output_type": "stream",
     "text": [
      "[[40, 60, 30], [80, 50, 60]]\n"
     ]
    }
   ],
   "source": [
    "def my_matrix_scaler_product(alpha,m_1):#burdaki alinan degerlere gore\n",
    "    result=[]\n",
    "    for row in range(len(m_1)):\n",
    "        result.append([])\n",
    "        for column in range(len(m_1[0])):\n",
    "            #print(m_1[row][column],end=\" \")\n",
    "            result[row].append(m_1[row][column]*alpha)\n",
    "      #  print()\n",
    "    return result\n",
    "matrix_1=[[4,6,3],[8,5,6]]\n",
    "alpha=10\n",
    "r=my_matrix_scaler_product(alpha,matrix_1)# buraya degiskenleri dizmek gerekiyor\n",
    "print (r)"
   ]
  },
  {
   "cell_type": "code",
   "execution_count": 9,
   "metadata": {},
   "outputs": [
    {
     "data": {
      "text/plain": [
       "[8, 5, 6]"
      ]
     },
     "execution_count": 9,
     "metadata": {},
     "output_type": "execute_result"
    }
   ],
   "source": [
    "# satir sutun vektorel ic carpma \n",
    "#f1 satiri f2 sutunu \n",
    "\n",
    "def f_1(matrix1,i):\n",
    "    return matrix_1[i]\n",
    "matrix_1=[[4,6,3],[8,5,6]]\n",
    "f_1(matrix_1,1)\n",
    "    \n",
    "    #return matrix[i][:]"
   ]
  },
  {
   "cell_type": "code",
   "execution_count": 13,
   "metadata": {},
   "outputs": [
    {
     "data": {
      "text/plain": [
       "[8, 5, 6]"
      ]
     },
     "execution_count": 13,
     "metadata": {},
     "output_type": "execute_result"
    }
   ],
   "source": [
    "def f_1(matrix1,i):\n",
    "    return matrix_1[i]\n",
    "matrix_1=[[4,6,3],[8,5,6]]\n",
    "f_1(matrix_1,1)\n",
    "\n",
    "\n",
    "\n",
    "def f_2(matrix1,j):\n",
    "    my_j_th_col=[]\n",
    "    for row in matrix_1:\n",
    "        for indis in range (len(row)):\n",
    "            if(indis==j):\n",
    "                my_j_th_col.append(row[indis])\n",
    "    return my_j_th_col\n",
    "\n",
    "f_2(matrix_1,2)\n",
    "\n",
    "f_1(matrix_1,1)\n"
   ]
  },
  {
   "cell_type": "code",
   "execution_count": 27,
   "metadata": {
    "scrolled": true
   },
   "outputs": [
    {
     "data": {
      "text/plain": [
       "[[64, 54, 48], [72, 73, 54]]"
      ]
     },
     "execution_count": 27,
     "metadata": {},
     "output_type": "execute_result"
    }
   ],
   "source": [
    "\n",
    "def my_Vectors_Inner_Product(v,w):\n",
    "    size=len(v)\n",
    "    my_result=[]\n",
    "    for i in range (size):\n",
    "        my_result.append(0)\n",
    "    for i in  range (size):\n",
    "        my_result[i]=v[i]*w[i]\n",
    "    t=0\n",
    "    for i in  range(size):\n",
    "        t=t+my_result[i]\n",
    "    return t\n",
    "\n",
    "def my_matrix_multiply(m_1,m_2):\n",
    "    result=[]\n",
    "    for row in range(len(m_1)):\n",
    "        result.append([])\n",
    "        for column in range(len(m_2[0])):\n",
    "            #print(m_1[row][column],end=\" \")\n",
    "            a=f_1(m_1,row)\n",
    "            b=f_2(m_2,column)\n",
    "            c=my_Vectors_Inner_Product(a,b)\n",
    "            result[row].append(c)\n",
    "    return result\n",
    "matrix_3=[[1,2],[3,4]]\n",
    "matrix_4=[[5,6,7],[8,9,10]]\n",
    "r=my_matrix_multiply(matrix_3,matrix_4)\n",
    "r\n",
    "\n"
   ]
  },
  {
   "cell_type": "code",
   "execution_count": 8,
   "metadata": {},
   "outputs": [],
   "source": [
    "##"
   ]
  },
  {
   "cell_type": "code",
   "execution_count": null,
   "metadata": {},
   "outputs": [],
   "source": []
  },
  {
   "cell_type": "code",
   "execution_count": null,
   "metadata": {},
   "outputs": [],
   "source": []
  }
 ],
 "metadata": {
  "kernelspec": {
   "display_name": "Python 3",
   "language": "python",
   "name": "python3"
  },
  "language_info": {
   "codemirror_mode": {
    "name": "ipython",
    "version": 3
   },
   "file_extension": ".py",
   "mimetype": "text/x-python",
   "name": "python",
   "nbconvert_exporter": "python",
   "pygments_lexer": "ipython3",
   "version": "3.7.1"
  }
 },
 "nbformat": 4,
 "nbformat_minor": 2
}
