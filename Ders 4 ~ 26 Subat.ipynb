{
 "cells": [
  {
   "cell_type": "markdown",
   "metadata": {},
   "source": [
    "### frekans bulma fonksiyonu "
   ]
  },
  {
   "cell_type": "code",
   "execution_count": 1,
   "metadata": {},
   "outputs": [
    {
     "data": {
      "text/plain": [
       "[2, 3, 2, 5, 8, 2, 4, 3, 3, 2, 8, 5, 2]"
      ]
     },
     "execution_count": 1,
     "metadata": {},
     "output_type": "execute_result"
    }
   ],
   "source": [
    "my_list = [2,3,2,5,8,2,4,3,3,2,8,5,2]\n",
    "my_list"
   ]
  },
  {
   "cell_type": "code",
   "execution_count": 2,
   "metadata": {},
   "outputs": [
    {
     "name": "stdout",
     "output_type": "stream",
     "text": [
      "{10: 3, 20: 3, 30: 2, 40: 1}\n"
     ]
    }
   ],
   "source": [
    "lst = [10,20,30,40,10,20,30,20,10]\n",
    "val = {i: lst.count(i) for i in lst}\n",
    "print(val)"
   ]
  },
  {
   "cell_type": "code",
   "execution_count": 3,
   "metadata": {},
   "outputs": [
    {
     "data": {
      "text/plain": [
       "({2: 5, 3: 3, 5: 2, 8: 2, 4: 6}, [[2, 5], [3, 3], [5, 2], [8, 2], [4, 6]])"
      ]
     },
     "execution_count": 3,
     "metadata": {},
     "output_type": "execute_result"
    }
   ],
   "source": [
    "def my_frequency_dict(list):\n",
    "    frequency_dict = {}\n",
    "    for item in list:\n",
    "        if(item in frequency_dict):\n",
    "            frequency_dict[item] = frequency_dict[item]+1\n",
    "        else:\n",
    "            frequency_dict[item] = 1\n",
    "    return frequency_dict\n",
    "\n",
    "def my_frequency_list(list_1):\n",
    "    frequency_list = []\n",
    "    for i in range (len(list_1)):\n",
    "        s=False\n",
    "        for j in range(len(frequency_list)):\n",
    "            if(list_1[i] == frequency_list[j][0]):\n",
    "                frequency_list[j][1] = frequency_list[j][1]+1\n",
    "                s = True\n",
    "        if(s == False):\n",
    "            frequency_list.append([list_1[i],1])\n",
    "    return frequency_list\n",
    "\n",
    "my_list = [2,3,2,5,8,2,4,3,3,2,8,5,2,4,4,4,4,4]\n",
    "result_1 = my_frequency_dict(my_list)\n",
    "result_2 = my_frequency_list(my_list)\n",
    "result_1,result_2"
   ]
  }
 ],
 "metadata": {
  "kernelspec": {
   "display_name": "Python 3",
   "language": "python",
   "name": "python3"
  },
  "language_info": {
   "codemirror_mode": {
    "name": "ipython",
    "version": 3
   },
   "file_extension": ".py",
   "mimetype": "text/x-python",
   "name": "python",
   "nbconvert_exporter": "python",
   "pygments_lexer": "ipython3",
   "version": "3.7.1"
  }
 },
 "nbformat": 4,
 "nbformat_minor": 2
}
