{
 "cells": [
  {
   "cell_type": "code",
   "execution_count": 6,
   "metadata": {},
   "outputs": [],
   "source": [
    "#vektor islemleri"
   ]
  },
  {
   "cell_type": "code",
   "execution_count": 2,
   "metadata": {},
   "outputs": [],
   "source": [
    "def my_vector_addition(v,m):\n",
    "    size = len(v)\n",
    "    my_result = []\n",
    "    for i in range (size):\n",
    "        my_result.append(v[i]+w[i])\n",
    "    return my_result"
   ]
  },
  {
   "cell_type": "code",
   "execution_count": 3,
   "metadata": {},
   "outputs": [],
   "source": [
    "def my_vector_substraction(v,m):\n",
    "    size = len(v)\n",
    "    my_result = []\n",
    "    for i in range (size):\n",
    "        my_result.append(v[i]-w[i])\n",
    "    return my_result"
   ]
  },
  {
   "cell_type": "code",
   "execution_count": 4,
   "metadata": {},
   "outputs": [],
   "source": [
    "def my_vectors_inner_product(v,w):\n",
    "    size=len(v)\n",
    "    my_result = []\n",
    "    for i in range (size):\n",
    "        my_result.append(0)\n",
    "    for i in range (size):\n",
    "        my_result[i]= v[i]*w[i]\n",
    "    t=0\n",
    "    for i in range(size):\n",
    "        t=t+my_result[i]\n",
    "    return t"
   ]
  },
  {
   "cell_type": "code",
   "execution_count": 5,
   "metadata": {},
   "outputs": [],
   "source": [
    "def my_vector_scalar_product(alpha,v):\n",
    "    size = len(v)\n",
    "    my_result=[]\n",
    "    for i in range(size):\n",
    "        my_result.append(alpha*v[i])\n",
    "    return my_result"
   ]
  }
 ],
 "metadata": {
  "kernelspec": {
   "display_name": "Python 3",
   "language": "python",
   "name": "python3"
  },
  "language_info": {
   "codemirror_mode": {
    "name": "ipython",
    "version": 3
   },
   "file_extension": ".py",
   "mimetype": "text/x-python",
   "name": "python",
   "nbconvert_exporter": "python",
   "pygments_lexer": "ipython3",
   "version": "3.7.1"
  }
 },
 "nbformat": 4,
 "nbformat_minor": 2
}
