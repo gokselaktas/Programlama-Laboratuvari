{
 "cells": [
  {
   "cell_type": "code",
   "execution_count": 1,
   "metadata": {},
   "outputs": [],
   "source": [
    "import random\n",
    "\n",
    "def get_n_random_integer(n):\n",
    "    #random.seed(10) # ayni random degerlere ulasmak icin \n",
    "    numbers = []\n",
    "    for i in range(n):\n",
    "        s = random.randint(-100,100)\n",
    "        numbers.append(s)\n",
    "    return numbers\n",
    "\n",
    "\n",
    "def get_mean_for_n_integer(numbers):\n",
    "    toplam = 0\n",
    "    kactane = 0\n",
    "    for sayi in numbers:\n",
    "        toplam += sayi\n",
    "        kactane += 1\n",
    "    return toplam/kactane\n",
    "\n",
    "\n",
    "def get_std_for_n_integer(numbers):\n",
    "    toplam = 0\n",
    "    kactane = 0\n",
    "    ortalama = get_mean_for_n_integer(numbers)\n",
    "    \n",
    "    for sayi in numbers:\n",
    "        toplam = toplam +(sayi-ortalama)**2\n",
    "        kactane += 1\n",
    "    var_1 = toplam/(kactane-1)\n",
    "    std_1 = var_1**0.5\n",
    "    return std_1\n",
    "\n",
    "\n",
    "def normalizasyon(numbers):\n",
    "    new_numbers = []\n",
    "    ortalama = get_mean_for_n_integer(numbers)\n",
    "    standart_sapma = get_std_for_n_integer(numbers)\n",
    "    for x in numbers:\n",
    "        new_x = (x-ortalama)/standart_sapma\n",
    "        new_numbers.append(new_x)\n",
    "    return new_numbers"
   ]
  },
  {
   "cell_type": "code",
   "execution_count": 2,
   "metadata": {},
   "outputs": [
    {
     "name": "stdout",
     "output_type": "stream",
     "text": [
      "sayilar: [-4, -62, 46, -95, 0]\n",
      "ortalama: -23.0\n",
      "standart sapma: 55.57877292636101\n",
      "yenisayi: [0.34185713357101305, -0.70170674785629, 1.2414811692842054, -1.2954586114269968, 0.41382705642806844]\n"
     ]
    }
   ],
   "source": [
    "sayilar = get_n_random_integer(5)\n",
    "print(\"sayilar:\",sayilar)\n",
    "ortalama = get_mean_for_n_integer(sayilar)\n",
    "print(\"ortalama:\",ortalama)\n",
    "standart_sapma = get_std_for_n_integer(sayilar)\n",
    "print(\"standart sapma:\",standart_sapma)\n",
    "yeni_sayilar = normalizasyon(sayilar)\n",
    "print(\"yenisayi:\",yeni_sayilar)"
   ]
  },
  {
   "cell_type": "code",
   "execution_count": 3,
   "metadata": {},
   "outputs": [
    {
     "data": {
      "text/plain": [
       "1.1102230246251566e-17"
      ]
     },
     "execution_count": 3,
     "metadata": {},
     "output_type": "execute_result"
    }
   ],
   "source": [
    "get_mean_for_n_integer(yeni_sayilar)"
   ]
  },
  {
   "cell_type": "code",
   "execution_count": 4,
   "metadata": {},
   "outputs": [
    {
     "data": {
      "text/plain": [
       "1.0"
      ]
     },
     "execution_count": 4,
     "metadata": {},
     "output_type": "execute_result"
    }
   ],
   "source": [
    "get_std_for_n_integer(yeni_sayilar)"
   ]
  },
  {
   "cell_type": "code",
   "execution_count": 5,
   "metadata": {},
   "outputs": [],
   "source": [
    "def get_mean_one_std_neighbor_ratio(numbers):\n",
    "    kacTane = 0\n",
    "    toplamKacSayi = 0\n",
    "    ortalama = get_mean_for_n_integer(numbers)\n",
    "    standart_sapma = get_std_for_n_integer(numbers)\n",
    "    low = ortalama - standart_sapma\n",
    "    high = ortalama + standart_sapma\n",
    "    \n",
    "    for x in numbers:\n",
    "        toplamKacSayi +=1\n",
    "        if(x>low and x<high):\n",
    "            kacTane = kacTane + 1\n",
    "    return kacTane/toplamKacSayi\n",
    "            "
   ]
  },
  {
   "cell_type": "code",
   "execution_count": 6,
   "metadata": {},
   "outputs": [
    {
     "data": {
      "text/plain": [
       "0.5811"
      ]
     },
     "execution_count": 6,
     "metadata": {},
     "output_type": "execute_result"
    }
   ],
   "source": [
    "sayilar_1 = get_n_random_integer(100000)\n",
    "get_mean_one_std_neighbor_ratio(sayilar_1)"
   ]
  },
  {
   "cell_type": "code",
   "execution_count": 7,
   "metadata": {},
   "outputs": [],
   "source": [
    "sayilar_2 = [75, 32, 25, 14, 47]\n",
    "\n",
    "def insertion(numbers):\n",
    "    sayilar_2 = numbers\n",
    "    karsilastirma_sayisi = 0#comparsion\n",
    "    yerdegistirme_sayisi = 0#swap\n",
    "    length_1 = len(sayilar_2)\n",
    "    #print(sayilar_2)\n",
    "\n",
    "    for i in range(1,length_1):\n",
    "        \n",
    "        for j in range(i-1,0,-1):#ahanda burasinda i-1 degil i olacakmis\n",
    "            \n",
    "            karsilastirma_sayisi+=1\n",
    "            \n",
    "            if(sayilar_2[j]<sayilar_2[j-1]):\n",
    "                #swap\n",
    "                yerdegistirme_sayisi+=1\n",
    "                #python tek satirda da swap yapmamiza izin veriyor\n",
    "                temp = sayilar_2[j-1]\n",
    "                sayilar_2[j-1] = sayilar_2[j]\n",
    "                sayilar_2[j] = temp\n",
    "            else:\n",
    "                break\n",
    "        \n",
    "    #print(sayilar_2)\n",
    "    return sayilar_2,karsilastirma_sayisi,yerdegistirme_sayisi"
   ]
  },
  {
   "cell_type": "code",
   "execution_count": 8,
   "metadata": {},
   "outputs": [
    {
     "name": "stdout",
     "output_type": "stream",
     "text": [
      "siralanmis liste:  [-94, -68, -57, -30, -19, -9, 8, 9, 26, -59]\n",
      "karsilastirma sayisi:  20\n",
      "yer degistirme sayisi:  14\n"
     ]
    }
   ],
   "source": [
    "sayilar_1 = get_n_random_integer(10)\n",
    "sayilar_2 = insertion(sayilar_1)\n",
    "print(\"siralanmis liste: \",sayilar_2[0])\n",
    "print(\"karsilastirma sayisi: \",sayilar_2[1])\n",
    "print(\"yer degistirme sayisi: \",sayilar_2[2])"
   ]
  },
  {
   "cell_type": "code",
   "execution_count": 9,
   "metadata": {},
   "outputs": [
    {
     "data": {
      "text/plain": [
       "(1000, 249957, 5847)"
      ]
     },
     "execution_count": 9,
     "metadata": {},
     "output_type": "execute_result"
    }
   ],
   "source": [
    "def get_mean_of_swap_in_insertion(numTrials,numInt):\n",
    "    swap_sayilari=[]\n",
    "    for i in range(numTrials):\n",
    "        sayilar_1 = get_n_random_integer(numInt)\n",
    "        sayilar_2 = insertion(sayilar_1)\n",
    "        s_1 = sayilar_2[2]\n",
    "        swap_sayilari.append(s_1)\n",
    "        \n",
    "    \n",
    "    mean_1 = get_mean_for_n_integer(swap_sayilari)\n",
    "    std_1 = get_std_for_n_integer(swap_sayilari)\n",
    "    \n",
    "    return numInt,int(mean_1), int(std_1)\n",
    "\n",
    "\n",
    "get_mean_of_swap_in_insertion(10,1000)\n"
   ]
  },
  {
   "cell_type": "code",
   "execution_count": 10,
   "metadata": {},
   "outputs": [],
   "source": [
    "def bubbleSort(arr):\n",
    "    n = len(arr)\n",
    "    karsilastirma_sayisi = 0\n",
    "    yerdegistime_sayisi = 0\n",
    "\n",
    "    for i in range(n):\n",
    " \n",
    "        for j in range(0, n-i-1):\n",
    "            karsilastirma_sayisi += 1\n",
    "\n",
    "            if arr[j] > arr[j+1] :\n",
    "                yerdegistime_sayisi += 1\n",
    "                arr[j], arr[j+1] = arr[j+1], arr[j]\n",
    "\n",
    "    return yerdegistime_sayisi"
   ]
  },
  {
   "cell_type": "code",
   "execution_count": 11,
   "metadata": {},
   "outputs": [
    {
     "name": "stdout",
     "output_type": "stream",
     "text": [
      "[51, -38, -3, -74, 42, -100, -19, -78, -92, -77]\n",
      "[-100, -92, -78, -77, -74, -38, -19, -3, 42, 51]\n",
      "33\n"
     ]
    }
   ],
   "source": [
    "sayilar_1 = get_n_random_integer(10)\n",
    "print(sayilar_1)\n",
    "swap_sayisi = bubbleSort(sayilar_1)\n",
    "print(sayilar_1)\n",
    "print(swap_sayisi)"
   ]
  },
  {
   "cell_type": "code",
   "execution_count": 12,
   "metadata": {},
   "outputs": [
    {
     "data": {
      "text/plain": [
       "(1000, 248136, 5627)"
      ]
     },
     "execution_count": 12,
     "metadata": {},
     "output_type": "execute_result"
    }
   ],
   "source": [
    "def get_mean_of_swap_in_bubble(numTrials,numInt):\n",
    "    swap_sayilari=[]\n",
    "    for i in range(numTrials):\n",
    "        sayilar_1 = get_n_random_integer(numInt)\n",
    "        s_1 = sayilar_2 = bubbleSort(sayilar_1)\n",
    "        swap_sayilari.append(s_1)\n",
    "        \n",
    "    \n",
    "    mean_1 = get_mean_for_n_integer(swap_sayilari)\n",
    "    std_1 = get_std_for_n_integer(swap_sayilari)\n",
    "    \n",
    "    return numInt,int(mean_1), int(std_1)\n",
    "\n",
    "get_mean_of_swap_in_bubble(10,1000)"
   ]
  },
  {
   "cell_type": "code",
   "execution_count": 13,
   "metadata": {},
   "outputs": [
    {
     "name": "stdout",
     "output_type": "stream",
     "text": [
      "insertion:  (10, 18, 5)\n",
      "bubble:  (10, 24, 5)\n"
     ]
    }
   ],
   "source": [
    "random.seed(42)\n",
    "result_1 = get_mean_of_swap_in_insertion(10,10)\n",
    "random.seed(42)\n",
    "result_2 = get_mean_of_swap_in_bubble(10,10)\n",
    "\n",
    "print(\"insertion: \",result_1)\n",
    "print(\"bubble: \",result_2)"
   ]
  },
  {
   "cell_type": "code",
   "execution_count": null,
   "metadata": {},
   "outputs": [],
   "source": []
  },
  {
   "cell_type": "code",
   "execution_count": null,
   "metadata": {},
   "outputs": [],
   "source": []
  }
 ],
 "metadata": {
  "kernelspec": {
   "display_name": "Python 3",
   "language": "python",
   "name": "python3"
  },
  "language_info": {
   "codemirror_mode": {
    "name": "ipython",
    "version": 3
   },
   "file_extension": ".py",
   "mimetype": "text/x-python",
   "name": "python",
   "nbconvert_exporter": "python",
   "pygments_lexer": "ipython3",
   "version": "3.7.1"
  }
 },
 "nbformat": 4,
 "nbformat_minor": 2
}
