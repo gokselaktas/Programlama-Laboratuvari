{
 "cells": [
  {
   "cell_type": "markdown",
   "metadata": {},
   "source": [
    "### benim cozumum"
   ]
  },
  {
   "cell_type": "code",
   "execution_count": 1,
   "metadata": {},
   "outputs": [],
   "source": [
    "#alinan ucretin para ustunu en az bozuk para ile geri verecegimiz fonksiyonu ureten kodu yaziniz\n",
    "\n",
    "# greedy vs dynamic yontemler \n",
    "\n",
    "#dynamic yontemlerde optimum cozum bulunur\n",
    "\n",
    "#\n",
    "coinlist=[50,25,10,5,1]\n",
    "def func(n,coinlist):\n",
    "    exmoney=[]\n",
    "    paraustu = 100-n\n",
    "    if(n>100):\n",
    "        return (\"hatali giris\")\n",
    "    else:\n",
    "        for i in range(len(coinlist)):\n",
    "            for j in range(i,len(coinlist)):\n",
    "                if paraustu>=coinlist[j]:\n",
    "                    paraustu-=coinlist[j]\n",
    "                    exmoney.append(coinlist[j])\n",
    "        return(exmoney)"
   ]
  },
  {
   "cell_type": "code",
   "execution_count": 2,
   "metadata": {},
   "outputs": [
    {
     "data": {
      "text/plain": [
       "[50, 10, 1, 1, 1]"
      ]
     },
     "execution_count": 2,
     "metadata": {},
     "output_type": "execute_result"
    }
   ],
   "source": [
    "func(37,coinlist)"
   ]
  },
  {
   "cell_type": "code",
   "execution_count": 3,
   "metadata": {},
   "outputs": [],
   "source": [
    "#bir degisik kod ornegi ama daha dogru \n",
    "\n",
    "def para_ustu (miktar, bozukluklar):\n",
    "    minimum_tane = miktar    #1 liklerle verilebilecek maksimum sayi miktarin kendisine esit\n",
    "    hangi_bozukluklar = []\n",
    "    \n",
    "    for i in range (len(bozukluklar)):\n",
    "        tane = 0\n",
    "        temp_bozukluklar = []\n",
    "        amount = miktar\n",
    "        j=i\n",
    "        while amount >= 0 and j>=0 :\n",
    "            if amount - bozukluklar[j] >= 0:\n",
    "                amount -= bozukluklar[j]\n",
    "                tane += 1\n",
    "                temp_bozukluklar.append(bozukluklar[j])\n",
    "            else:\n",
    "                j -= 1\n",
    "        if tane < minimum_tane :\n",
    "            minimum_tane = tane\n",
    "            hangi_bozukluklar= temp_bozukluklar\n",
    "    \n",
    "    return minimum_tane,hangi_bozukluklar"
   ]
  },
  {
   "cell_type": "code",
   "execution_count": 4,
   "metadata": {},
   "outputs": [
    {
     "data": {
      "text/plain": [
       "(3, [21, 21, 21])"
      ]
     },
     "execution_count": 4,
     "metadata": {},
     "output_type": "execute_result"
    }
   ],
   "source": [
    "para_ustu(63,[1,5,10,21,25,50])"
   ]
  },
  {
   "cell_type": "code",
   "execution_count": 5,
   "metadata": {},
   "outputs": [],
   "source": [
    "#hocanin tahtada cozdugu kod \n",
    "def recMC(coinValueList,change,knownResults): \n",
    "    minCoins=change\n",
    "    if change in coinValueList:\n",
    "        knownResults[change]=1\n",
    "        return 1\n",
    "    elif knownResults[change]>0:\n",
    "        return knownResults[change]\n",
    "    else:\n",
    "        for i in [c for c in coinValueList if c <= change]:\n",
    "            numCoins=1+recMC(coinValueList,change-i,knownResults)\n",
    "            if numCoins < minCoins:\n",
    "                minCoins=numCoins\n",
    "                knownResults[change]=minCoins\n",
    "        return minCoins  "
   ]
  },
  {
   "cell_type": "code",
   "execution_count": 6,
   "metadata": {},
   "outputs": [
    {
     "data": {
      "text/plain": [
       "3"
      ]
     },
     "execution_count": 6,
     "metadata": {},
     "output_type": "execute_result"
    }
   ],
   "source": [
    "recMC([1,5,10,25],40,[0]*41)"
   ]
  },
  {
   "cell_type": "code",
   "execution_count": 7,
   "metadata": {},
   "outputs": [],
   "source": [
    "#list expression\n",
    "#listeyi otomatik doldurmak icin expression kullaniyoruz\n",
    "l_1=[i for i in range(10) if i%2==0]"
   ]
  },
  {
   "cell_type": "code",
   "execution_count": 8,
   "metadata": {},
   "outputs": [
    {
     "data": {
      "text/plain": [
       "[0, 2, 4, 6, 8]"
      ]
     },
     "execution_count": 8,
     "metadata": {},
     "output_type": "execute_result"
    }
   ],
   "source": [
    "l_1"
   ]
  }
 ],
 "metadata": {
  "kernelspec": {
   "display_name": "Python 3",
   "language": "python",
   "name": "python3"
  },
  "language_info": {
   "codemirror_mode": {
    "name": "ipython",
    "version": 3
   },
   "file_extension": ".py",
   "mimetype": "text/x-python",
   "name": "python",
   "nbconvert_exporter": "python",
   "pygments_lexer": "ipython3",
   "version": "3.7.1"
  }
 },
 "nbformat": 4,
 "nbformat_minor": 2
}
