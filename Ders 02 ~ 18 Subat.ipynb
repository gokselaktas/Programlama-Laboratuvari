{
 "cells": [
  {
   "cell_type": "code",
   "execution_count": 26,
   "metadata": {},
   "outputs": [],
   "source": [
    "def mySearchSelection(my_array):\n",
    "    swap_sayisi=0\n",
    "    for i in range(len(my_arr)-1,0,-1):\n",
    "        positionOfMax=0\n",
    "        for location in range(1,i+1):\n",
    "           # print(\"j: \",location, \"i: \",i,end=\"\")\n",
    "            if(my_array[location]>my_array[positionOfMax]):\n",
    "                positionOfMax=location\n",
    "            temp=my_array[location]\n",
    "            my_array[location]=my_array[positionOfMax]\n",
    "            my_array[positionOfMax]=temp\n",
    "            swap_sayisi=swap_sayisi+1\n",
    "            return(\"swap sayisi \",swap_sayisi)    "
   ]
  },
  {
   "cell_type": "code",
   "execution_count": 27,
   "metadata": {
    "scrolled": true
   },
   "outputs": [
    {
     "data": {
      "text/plain": [
       "[12, 21, 13, 33, 25, 1, 43, 54, 65]"
      ]
     },
     "execution_count": 27,
     "metadata": {},
     "output_type": "execute_result"
    }
   ],
   "source": [
    "my_arr=[21,12,13,33,25,1,43,54,65]\n",
    "mySearchSelection(my_arr)\n",
    "my_arr"
   ]
  },
  {
   "cell_type": "code",
   "execution_count": 28,
   "metadata": {},
   "outputs": [],
   "source": [
    "def my_binary_search(my_arr,item):\n",
    "    first=0\n",
    "    last=len(my_arr)-1\n",
    "    found=False\n",
    "    s=0\n",
    "    while first<= last and not found:\n",
    "        midpoint=(first+last)//2\n",
    "        print(\"First - last :\",first,last)\n",
    "        s=s+1\n",
    "        if(my_arr[midpoint]==item):\n",
    "            found= True\n",
    "        else:\n",
    "            if(item<my_arr[midpoint]):\n",
    "                last=midpoint-1\n",
    "            else:\n",
    "                first=midpoint+1\n",
    "                s=s+1\n",
    "        print(\"step = \",s)    \n",
    "        return found,midpoint"
   ]
  },
  {
   "cell_type": "code",
   "execution_count": 29,
   "metadata": {},
   "outputs": [
    {
     "data": {
      "text/plain": [
       "[12, 21, 13, 33, 25, 1, 43, 54, 65]"
      ]
     },
     "execution_count": 29,
     "metadata": {},
     "output_type": "execute_result"
    }
   ],
   "source": [
    "my_arr"
   ]
  },
  {
   "cell_type": "code",
   "execution_count": 30,
   "metadata": {},
   "outputs": [
    {
     "name": "stdout",
     "output_type": "stream",
     "text": [
      "First - last : 0 8\n",
      "step =  1\n"
     ]
    },
    {
     "data": {
      "text/plain": [
       "(True, 4)"
      ]
     },
     "execution_count": 30,
     "metadata": {},
     "output_type": "execute_result"
    }
   ],
   "source": [
    "my_binary_search(my_arr,25)"
   ]
  }
 ],
 "metadata": {
  "kernelspec": {
   "display_name": "Python 3",
   "language": "python",
   "name": "python3"
  },
  "language_info": {
   "codemirror_mode": {
    "name": "ipython",
    "version": 3
   },
   "file_extension": ".py",
   "mimetype": "text/x-python",
   "name": "python",
   "nbconvert_exporter": "python",
   "pygments_lexer": "ipython3",
   "version": "3.7.1"
  }
 },
 "nbformat": 4,
 "nbformat_minor": 2
}
